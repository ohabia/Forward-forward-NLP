{
 "cells": [
  {
   "cell_type": "code",
   "execution_count": 327,
   "id": "080d50fc",
   "metadata": {},
   "outputs": [],
   "source": [
    "import argparse\n",
    "import logging\n",
    "import time\n",
    "\n",
    "import torch\n",
    "import torchtext\n",
    "from torch.utils.data import DataLoader\n",
    "from torch.utils.data.dataset import random_split\n",
    "from torchtext.data.functional import to_map_style_dataset\n",
    "from torchtext.data.utils import get_tokenizer\n",
    "from torchtext.datasets import DATASETS\n",
    "from torchtext.prototype.transforms import load_sp_model, PRETRAINED_SP_MODEL, SentencePieceTokenizer\n",
    "from torchtext.utils import download_from_url\n",
    "from torchtext.vocab import build_vocab_from_iterator\n",
    "import torch.nn as nn\n",
    "from torch.nn.utils.rnn import pad_sequence\n",
    "import torch.nn.functional as F\n",
    "from torchtext.vocab import GloVe, FastText\n",
    "from torch.optim import Adam\n",
    "from tqdm import tqdm\n",
    "from sklearn.metrics import accuracy_score\n",
    "import gc\n",
    "from sklearn.metrics import accuracy_score, classification_report, confusion_matrix\n",
    "from sklearn.metrics import confusion_matrix\n",
    "import scikitplot as skplt\n",
    "import matplotlib.pyplot as plt\n",
    "import numpy as np\n",
    "import random\n",
    "from sentence_transformers import SentenceTransformer"
   ]
  },
  {
   "cell_type": "code",
   "execution_count": 328,
   "id": "6f049c91",
   "metadata": {},
   "outputs": [],
   "source": [
    "# parser = argparse.ArgumentParser(description='finds the statiums')\n",
    "# parser.add_argument('team', metavar='team', type=str, help='enter your team')\n",
    "# args = parser.parse_args()\n",
    "# team = args.team"
   ]
  },
  {
   "cell_type": "code",
   "execution_count": 329,
   "id": "75d5624f",
   "metadata": {},
   "outputs": [],
   "source": [
    "# EXPERIMENT SETTING\n",
    "\n",
    "# Dataset\n",
    "DATASET = 'YelpReviewPolarity' # choose from 'AG_NEWS', 'AmazonReviewFull', 'DBpedia', 'IMDb', 'SogouNews', 'YahooAnswers', 'YelpReviewFull', 'YelpReviewPolarity'\n",
    "# embedding method\n",
    "EMBD = 'sbert' # choose from 'GloVe' or 'sbert'\n",
    "# Corruption: if not then concatnate\n",
    "INSERT = False "
   ]
  },
  {
   "cell_type": "code",
   "execution_count": null,
   "id": "93e3b7cb",
   "metadata": {},
   "outputs": [],
   "source": []
  },
  {
   "cell_type": "markdown",
   "id": "88f4f839",
   "metadata": {},
   "source": [
    "## Dataset"
   ]
  },
  {
   "cell_type": "code",
   "execution_count": 330,
   "id": "598c876e",
   "metadata": {},
   "outputs": [],
   "source": [
    "if DATASET == 'AG_NEWS':\n",
    "  train_dataset, test_dataset  = torchtext.datasets.AG_NEWS()\n",
    "  NUM_CLASS = 4\n",
    "elif DATASET == 'AmazonReviewFull':\n",
    "  train_dataset, test_dataset  = torchtext.datasets.AmazonReviewFull()\n",
    "  NUM_CLASS = 5\n",
    "elif DATASET == 'DBpedia':\n",
    "  train_dataset, test_dataset  = torchtext.datasets.DBpedia()\n",
    "  NUM_CLASS = 14\n",
    "elif DATASET == 'IMDb':\n",
    "  train_dataset, test_dataset  = torchtext.datasets.IMDB()\n",
    "  NUM_CLASS = 2\n",
    "elif DATASET == 'SogouNews':\n",
    "  train_dataset, test_dataset  = torchtext.datasets.SogouNews()\n",
    "  NUM_CLASS = 5\n",
    "elif DATASET == 'YahooAnswers':\n",
    "  train_dataset, test_dataset  = torchtext.datasets.YahooAnswers()\n",
    "  NUM_CLASS = 10\n",
    "elif DATASET == 'YelpReviewFull':\n",
    "  train_dataset, test_dataset  = torchtext.datasets.YelpReviewFull()\n",
    "  NUM_CLASS = 5\n",
    "elif DATASET == 'YelpReviewPolarity':\n",
    "  train_dataset, test_dataset  = torchtext.datasets.YelpReviewPolarity()\n",
    "  NUM_CLASS = 2\n",
    "\n",
    "train_dataset, test_dataset = to_map_style_dataset(train_dataset), to_map_style_dataset(test_dataset)"
   ]
  },
  {
   "cell_type": "code",
   "execution_count": 331,
   "id": "4e94936d",
   "metadata": {},
   "outputs": [
    {
     "name": "stdout",
     "output_type": "stream",
     "text": [
      "1000 600\n"
     ]
    }
   ],
   "source": [
    "train_dataset = train_dataset[:1000]\n",
    "test_dataset = test_dataset[:600]\n",
    "print(len(train_dataset),len(test_dataset))"
   ]
  },
  {
   "cell_type": "markdown",
   "id": "840252c4",
   "metadata": {},
   "source": [
    "## Embedding: GloVE/sbert"
   ]
  },
  {
   "cell_type": "code",
   "execution_count": 332,
   "id": "c4589bd6",
   "metadata": {},
   "outputs": [],
   "source": [
    "TOKENIZER = get_tokenizer(\"basic_english\")\n",
    "\n",
    "# GloVe\n",
    "GLOVE = GloVe(name='840B', dim=300)\n",
    "#([6, 300])\n",
    "GLOVE.get_vecs_by_tokens(TOKENIZER(\"Hello, How are you?\"), lower_case_backup=True) \n",
    "\n",
    "\n",
    "# FASTTEXT = FastText()\n",
    "\n",
    "# sbert\n",
    "model = SentenceTransformer('all-MiniLM-L6-v2')\n",
    "sentences = ['This framework generates embeddings for each input sentence',\n",
    "    'Sentences are passed as a list of string.',\n",
    "    'The quick brown fox jumps over the lazy dog.']\n",
    "embeddings = model.encode(sentences) #([3, 384])"
   ]
  },
  {
   "cell_type": "code",
   "execution_count": 333,
   "id": "a2a88057",
   "metadata": {},
   "outputs": [],
   "source": [
    "if EMBD == 'sbert':\n",
    "  model = SentenceTransformer('all-MiniLM-L6-v2')\n",
    "\n",
    "  train_mapping = {}\n",
    "  train_para = [_[1] for _ in train_dataset]\n",
    "  train_embedd = torch.from_numpy(model.encode(train_para))\n",
    "\n",
    "  train_mapping = dict(list(zip(train_para, train_embedd)))\n",
    "\n",
    "  test_mapping = {}\n",
    "  test_para = [_[1] for _ in test_dataset]\n",
    "  test_embedd = torch.from_numpy(model.encode(test_para))\n",
    "\n",
    "  test_mapping = dict(list(zip(test_para, test_embedd)))\n",
    "\n",
    "  sbert_mapping = dict(train_mapping, **test_mapping)"
   ]
  },
  {
   "cell_type": "code",
   "execution_count": 334,
   "id": "5b371bf3",
   "metadata": {},
   "outputs": [
    {
     "data": {
      "text/plain": [
       "1600"
      ]
     },
     "execution_count": 334,
     "metadata": {},
     "output_type": "execute_result"
    }
   ],
   "source": [
    "len(sbert_mapping)"
   ]
  },
  {
   "cell_type": "markdown",
   "id": "3dde6b51",
   "metadata": {},
   "source": [
    "# Forward-Forward Algo"
   ]
  },
  {
   "cell_type": "markdown",
   "id": "92d6274d",
   "metadata": {},
   "source": [
    "## Dataset - get Positive Samples & Negative Samples"
   ]
  },
  {
   "cell_type": "code",
   "execution_count": 335,
   "id": "24a8dafc",
   "metadata": {},
   "outputs": [],
   "source": [
    "# define collate_fn with embedding method\n",
    "def vectorize_batch(batch, embed_method = 'GloVe'):\n",
    "    Y, X = list(zip(*batch))\n",
    "    \n",
    "    if embed_method == 'GloVe':\n",
    "      X = [TOKENIZER(x) for x in X]\n",
    "      X_tensor = torch.zeros(len(batch), 300)\n",
    "      for i, tokens in enumerate(X):\n",
    "          X_tensor[i] = GLOVE.get_vecs_by_tokens(tokens).mean(dim=0) ## Averaging Embedding accross all words of text document\n",
    "    \n",
    "    if embed_method == 'sbert': #slow\n",
    "      X_tensor = torch.cat([sbert_mapping[x].unsqueeze(0) for x in X], dim=0)\n",
    "\n",
    "    return X_tensor, torch.tensor(Y) - 1 "
   ]
  },
  {
   "cell_type": "code",
   "execution_count": 336,
   "id": "6d97038c",
   "metadata": {},
   "outputs": [],
   "source": [
    "num_train = round(0.95*len(train_dataset))\n",
    "split_train_, split_valid_ = random_split(train_dataset, [num_train, len(train_dataset) - num_train])\n",
    "\n",
    "# torch.Size([114000, embed]) torch.Size([114000])\n",
    "train_loader = DataLoader(split_train_, batch_size=len(split_train_), collate_fn= lambda x : vectorize_batch(x, embed_method=EMBD))\n",
    "\n",
    "# torch.Size([6000, embed]) torch.Size([6000])\n",
    "valid_loader = DataLoader(split_valid_, batch_size=len(split_valid_), collate_fn= lambda x : vectorize_batch(x, embed_method=EMBD))\n",
    "\n",
    "# torch.Size([7600, embed]) torch.Size([7600])\n",
    "test_loader = DataLoader(test_dataset, batch_size=len(test_dataset), collate_fn= lambda x : vectorize_batch(x, embed_method=EMBD))"
   ]
  },
  {
   "cell_type": "code",
   "execution_count": 337,
   "id": "fd465398",
   "metadata": {},
   "outputs": [
    {
     "data": {
      "text/plain": [
       "(torch.Size([950, 384]), torch.Size([950]))"
      ]
     },
     "execution_count": 337,
     "metadata": {},
     "output_type": "execute_result"
    }
   ],
   "source": [
    "x_train, y = next(iter(train_loader))\n",
    "x_train.shape, y.shape"
   ]
  },
  {
   "cell_type": "code",
   "execution_count": 338,
   "id": "57b6cb66",
   "metadata": {},
   "outputs": [
    {
     "data": {
      "text/plain": [
       "(tensor([[ 0.0325,  0.0713,  0.0711,  ..., -0.0165, -0.0468,  0.0702],\n",
       "         [ 0.0311,  0.0161,  0.0856,  ...,  0.1029, -0.1494,  0.0116],\n",
       "         [ 0.0092,  0.0126, -0.0139,  ...,  0.0143, -0.0488,  0.0290],\n",
       "         [-0.0739,  0.0200, -0.0231,  ..., -0.0232, -0.0131, -0.0016],\n",
       "         [ 0.0054,  0.0064,  0.0771,  ..., -0.0159, -0.0317, -0.0174]]),\n",
       " tensor([0, 0, 1, 1, 0]))"
      ]
     },
     "execution_count": 338,
     "metadata": {},
     "output_type": "execute_result"
    }
   ],
   "source": [
    "x_train[:5,:],y[:5]"
   ]
  },
  {
   "cell_type": "code",
   "execution_count": 339,
   "id": "71e215a6",
   "metadata": {},
   "outputs": [],
   "source": [
    "def create_pos_neg(x_train, insert = True):\n",
    "  \n",
    "  x_pos = x_train.clone().detach()\n",
    "  x_neg = x_train.clone().detach()\n",
    "\n",
    "  # if concatenate\n",
    "  if not insert:\n",
    "    x_pos = torch.cat((torch.zeros(x_pos.size(0), NUM_CLASS), x_pos), 1)\n",
    "    x_neg = torch.cat((torch.zeros(x_neg.size(0), NUM_CLASS), x_neg), 1)\n",
    "  # if insert\n",
    "  else:\n",
    "    x_pos[:,0:NUM_CLASS] = torch.zeros(x_pos.size(0), NUM_CLASS)\n",
    "    x_neg[:,0:NUM_CLASS] = torch.zeros(x_neg.size(0), NUM_CLASS)\n",
    "\n",
    "  y_ = torch.randint(0,NUM_CLASS,(x_neg.size(0),))\n",
    "\n",
    "  for i in range(x_neg.size(0)):\n",
    "    x_pos[i,y[i]] = 1\n",
    "    # x_neg[i,y_[i]] = 1\n",
    "    # # NOTE: y_[i] maybe the right label, which will certainly hurt experiment results!\n",
    "    if y_[i] != y[i]:\n",
    "      x_neg[i,y_[i]] = 1\n",
    "    else:\n",
    "      x_neg[i,(y[i]+1)%NUM_CLASS] = 1\n",
    "  \n",
    "  return x_pos, x_neg"
   ]
  },
  {
   "cell_type": "code",
   "execution_count": 340,
   "id": "8303cce2",
   "metadata": {},
   "outputs": [
    {
     "data": {
      "text/plain": [
       "386"
      ]
     },
     "execution_count": 340,
     "metadata": {},
     "output_type": "execute_result"
    }
   ],
   "source": [
    "x_pos, x_neg = create_pos_neg(x_train, insert=INSERT)\n",
    "embed_len = x_pos.shape[1]\n",
    "embed_len"
   ]
  },
  {
   "cell_type": "code",
   "execution_count": 341,
   "id": "5497b443",
   "metadata": {},
   "outputs": [
    {
     "name": "stdout",
     "output_type": "stream",
     "text": [
      "tensor([[ 1.0000,  0.0000,  0.0325,  ..., -0.0165, -0.0468,  0.0702],\n",
      "        [ 1.0000,  0.0000,  0.0311,  ...,  0.1029, -0.1494,  0.0116],\n",
      "        [ 0.0000,  1.0000,  0.0092,  ...,  0.0143, -0.0488,  0.0290],\n",
      "        [ 0.0000,  1.0000, -0.0739,  ..., -0.0232, -0.0131, -0.0016],\n",
      "        [ 1.0000,  0.0000,  0.0054,  ..., -0.0159, -0.0317, -0.0174]])\n",
      "tensor([[ 0.0000,  1.0000,  0.0325,  ..., -0.0165, -0.0468,  0.0702],\n",
      "        [ 0.0000,  1.0000,  0.0311,  ...,  0.1029, -0.1494,  0.0116],\n",
      "        [ 1.0000,  0.0000,  0.0092,  ...,  0.0143, -0.0488,  0.0290],\n",
      "        [ 1.0000,  0.0000, -0.0739,  ..., -0.0232, -0.0131, -0.0016],\n",
      "        [ 0.0000,  1.0000,  0.0054,  ..., -0.0159, -0.0317, -0.0174]])\n"
     ]
    }
   ],
   "source": [
    "print(x_pos[:5,:])\n",
    "print(x_neg[:5,:])"
   ]
  },
  {
   "cell_type": "markdown",
   "id": "22a4bb55",
   "metadata": {},
   "source": [
    "## Goodness Function"
   ]
  },
  {
   "cell_type": "code",
   "execution_count": 342,
   "id": "bc70d441",
   "metadata": {},
   "outputs": [],
   "source": [
    "def goodness_power(X, p):\n",
    "  return X.pow(p).mean(1)\n",
    "\n",
    "def goodness_abs(X):\n",
    "  return torch.abs(X).mean(1)"
   ]
  },
  {
   "cell_type": "code",
   "execution_count": 343,
   "id": "16797c8b",
   "metadata": {},
   "outputs": [],
   "source": [
    "def goodness(X):\n",
    "  return goodness_power(X,4.3)"
   ]
  },
  {
   "cell_type": "markdown",
   "id": "42b3dab4",
   "metadata": {},
   "source": [
    "## Model"
   ]
  },
  {
   "cell_type": "code",
   "execution_count": 344,
   "id": "9f0cc0c7",
   "metadata": {},
   "outputs": [],
   "source": [
    "layer_epoch = 1000\n",
    "layer_threshold = 5  #2.0\n",
    "\n",
    "class Layer(nn.Linear):\n",
    "    def __init__(self, in_features, out_features,\n",
    "                 bias=True, device=None, dtype=None):\n",
    "        super().__init__(in_features, out_features, bias, device, dtype)\n",
    "        self.relu = torch.nn.ReLU()\n",
    "        self.opt = Adam(self.parameters(), lr=0.03)\n",
    "        self.threshold = layer_threshold\n",
    "        self.num_epochs = layer_epoch\n",
    "        self.loss_list = []\n",
    "\n",
    "    def forward(self, x):\n",
    "        x_direction = x / (x.norm(p = 2, dim = 1, keepdim=True) + 1e-4)\n",
    "        return self.relu(\n",
    "            torch.mm(x_direction, self.weight.T) +\n",
    "            self.bias.unsqueeze(0))\n",
    "\n",
    "    def train(self, x_pos, x_neg):\n",
    "        for i in tqdm(range(self.num_epochs)):\n",
    "            # torch.Size([114000, embed]) --> torch.Size([114000])\n",
    "            g_pos = goodness(self.forward(x_pos))\n",
    "            g_neg = goodness(self.forward(x_neg))\n",
    "            # The following loss pushes pos (neg) samples to\n",
    "            # values larger (smaller) than the self.threshold.\n",
    "\n",
    "            # after exp()  torch.Size([228000])\n",
    "            # loss torch.size([1])\n",
    "            loss = torch.log(1 + torch.exp(torch.cat([\n",
    "                -g_pos + self.threshold,\n",
    "                g_neg - self.threshold]))).mean()\n",
    "\n",
    "            self.opt.zero_grad()\n",
    "            # this backward just compute the derivative and hence\n",
    "            # is not considered backpropagation.\n",
    "            loss.backward()\n",
    "            self.opt.step()\n",
    "            self.loss_list.append(loss.detach().item())\n",
    "\n",
    "            if i % 100 == 0 and i > 0:\n",
    "              print(\n",
    "                \"| epoch {:3d} | loss {:8.3f}\".format(i, loss)\n",
    "              )\n",
    "        return self.forward(x_pos).detach(), self.forward(x_neg).detach()"
   ]
  },
  {
   "cell_type": "code",
   "execution_count": 345,
   "id": "8fa5935d",
   "metadata": {},
   "outputs": [],
   "source": [
    "class Net(torch.nn.Module):\n",
    "\n",
    "    def __init__(self, dims):\n",
    "        super().__init__()\n",
    "        self.layers = []\n",
    "        for d in range(len(dims) - 1):\n",
    "            self.layers += [Layer(dims[d], dims[d + 1])]\n",
    "        # print(self.layers)\n",
    "\n",
    "    def predict(self, x):\n",
    "        goodness_per_label = []\n",
    "        for label in range(NUM_CLASS):\n",
    "            h = x.clone().detach()\n",
    "            if INSERT:\n",
    "              h[:, 0:NUM_CLASS] = torch.zeros(x.size(0), NUM_CLASS)\n",
    "            else:\n",
    "              h = torch.cat((torch.zeros(x.size(0), NUM_CLASS), h), dim = 1)\n",
    "            h[:, label] = 1      \n",
    "            # 4 , x.size(0)      \n",
    "            goodnesses = []\n",
    "            for layer in self.layers:\n",
    "                h = layer(h)\n",
    "                goodnesses += [goodness(h)]\n",
    "\n",
    "            goodness_per_label += [sum(goodnesses).unsqueeze(1)]\n",
    "        # [torch(x.size(0)),torch(x.size(0)),torch(x.size(0)),torch(x.size(0))]\n",
    "        goodness_per_label = torch.cat(goodness_per_label, 1)\n",
    "        # print(goodness_per_label.shape)\n",
    "        return goodness_per_label.argmax(1)\n",
    "\n",
    "    def train(self, x_pos, x_neg):\n",
    "        h_pos, h_neg = x_pos, x_neg\n",
    "        total_loss_list = []\n",
    "        for i, layer in enumerate(self.layers):\n",
    "            print(\"-\" * 59)\n",
    "            print('training layer', i, '...')\n",
    "            h_pos, h_neg = layer.train(h_pos, h_neg)\n",
    "            total_loss_list.append(layer.loss_list)\n",
    "            print(\"-\" * 59)\n",
    "        return(total_loss_list)"
   ]
  },
  {
   "cell_type": "markdown",
   "id": "0931b00a",
   "metadata": {},
   "source": [
    "## Train the model"
   ]
  },
  {
   "cell_type": "code",
   "execution_count": 346,
   "id": "446d2fa1",
   "metadata": {},
   "outputs": [
    {
     "name": "stdout",
     "output_type": "stream",
     "text": [
      "-----------------------------------------------------------\n",
      "training layer 0 ...\n"
     ]
    },
    {
     "name": "stderr",
     "output_type": "stream",
     "text": [
      " 11%|█         | 111/1000 [00:01<00:13, 67.11it/s]"
     ]
    },
    {
     "name": "stdout",
     "output_type": "stream",
     "text": [
      "| epoch 100 | loss    0.043\n"
     ]
    },
    {
     "name": "stderr",
     "output_type": "stream",
     "text": [
      " 21%|██        | 208/1000 [00:03<00:13, 60.29it/s]"
     ]
    },
    {
     "name": "stdout",
     "output_type": "stream",
     "text": [
      "| epoch 200 | loss    0.009\n"
     ]
    },
    {
     "name": "stderr",
     "output_type": "stream",
     "text": [
      " 31%|███       | 308/1000 [00:04<00:10, 66.75it/s]"
     ]
    },
    {
     "name": "stdout",
     "output_type": "stream",
     "text": [
      "| epoch 300 | loss    0.006\n"
     ]
    },
    {
     "name": "stderr",
     "output_type": "stream",
     "text": [
      " 41%|████      | 410/1000 [00:06<00:08, 69.36it/s]"
     ]
    },
    {
     "name": "stdout",
     "output_type": "stream",
     "text": [
      "| epoch 400 | loss    0.005\n"
     ]
    },
    {
     "name": "stderr",
     "output_type": "stream",
     "text": [
      " 51%|█████     | 512/1000 [00:07<00:07, 69.38it/s]"
     ]
    },
    {
     "name": "stdout",
     "output_type": "stream",
     "text": [
      "| epoch 500 | loss    0.004\n"
     ]
    },
    {
     "name": "stderr",
     "output_type": "stream",
     "text": [
      " 61%|██████    | 612/1000 [00:09<00:05, 66.96it/s]"
     ]
    },
    {
     "name": "stdout",
     "output_type": "stream",
     "text": [
      "| epoch 600 | loss    0.004\n"
     ]
    },
    {
     "name": "stderr",
     "output_type": "stream",
     "text": [
      " 71%|███████▏  | 713/1000 [00:10<00:04, 68.20it/s]"
     ]
    },
    {
     "name": "stdout",
     "output_type": "stream",
     "text": [
      "| epoch 700 | loss    0.004\n"
     ]
    },
    {
     "name": "stderr",
     "output_type": "stream",
     "text": [
      " 81%|████████  | 809/1000 [00:12<00:02, 67.39it/s]"
     ]
    },
    {
     "name": "stdout",
     "output_type": "stream",
     "text": [
      "| epoch 800 | loss    0.004\n"
     ]
    },
    {
     "name": "stderr",
     "output_type": "stream",
     "text": [
      " 91%|█████████ | 912/1000 [00:13<00:01, 69.38it/s]"
     ]
    },
    {
     "name": "stdout",
     "output_type": "stream",
     "text": [
      "| epoch 900 | loss    0.004\n"
     ]
    },
    {
     "name": "stderr",
     "output_type": "stream",
     "text": [
      "100%|██████████| 1000/1000 [00:15<00:00, 66.30it/s]\n"
     ]
    },
    {
     "name": "stdout",
     "output_type": "stream",
     "text": [
      "-----------------------------------------------------------\n",
      "-----------------------------------------------------------\n",
      "training layer 1 ...\n"
     ]
    },
    {
     "name": "stderr",
     "output_type": "stream",
     "text": [
      " 12%|█▏        | 124/1000 [00:01<00:07, 110.10it/s]"
     ]
    },
    {
     "name": "stdout",
     "output_type": "stream",
     "text": [
      "| epoch 100 | loss    0.015\n"
     ]
    },
    {
     "name": "stderr",
     "output_type": "stream",
     "text": [
      " 21%|██▏       | 213/1000 [00:01<00:06, 118.07it/s]"
     ]
    },
    {
     "name": "stdout",
     "output_type": "stream",
     "text": [
      "| epoch 200 | loss    0.006\n"
     ]
    },
    {
     "name": "stderr",
     "output_type": "stream",
     "text": [
      " 32%|███▏      | 317/1000 [00:02<00:05, 124.95it/s]"
     ]
    },
    {
     "name": "stdout",
     "output_type": "stream",
     "text": [
      "| epoch 300 | loss    0.005\n"
     ]
    },
    {
     "name": "stderr",
     "output_type": "stream",
     "text": [
      " 42%|████▏     | 423/1000 [00:03<00:04, 124.95it/s]"
     ]
    },
    {
     "name": "stdout",
     "output_type": "stream",
     "text": [
      "| epoch 400 | loss    0.004\n"
     ]
    },
    {
     "name": "stderr",
     "output_type": "stream",
     "text": [
      " 51%|█████▏    | 514/1000 [00:04<00:03, 127.51it/s]"
     ]
    },
    {
     "name": "stdout",
     "output_type": "stream",
     "text": [
      "| epoch 500 | loss    0.004\n"
     ]
    },
    {
     "name": "stderr",
     "output_type": "stream",
     "text": [
      " 62%|██████▏   | 619/1000 [00:05<00:02, 129.77it/s]"
     ]
    },
    {
     "name": "stdout",
     "output_type": "stream",
     "text": [
      "| epoch 600 | loss    0.004\n"
     ]
    },
    {
     "name": "stderr",
     "output_type": "stream",
     "text": [
      " 71%|███████▏  | 714/1000 [00:05<00:02, 126.61it/s]"
     ]
    },
    {
     "name": "stdout",
     "output_type": "stream",
     "text": [
      "| epoch 700 | loss    0.004\n"
     ]
    },
    {
     "name": "stderr",
     "output_type": "stream",
     "text": [
      " 82%|████████▏ | 820/1000 [00:06<00:01, 118.88it/s]"
     ]
    },
    {
     "name": "stdout",
     "output_type": "stream",
     "text": [
      "| epoch 800 | loss    0.004\n"
     ]
    },
    {
     "name": "stderr",
     "output_type": "stream",
     "text": [
      " 92%|█████████▎| 925/1000 [00:07<00:00, 127.20it/s]"
     ]
    },
    {
     "name": "stdout",
     "output_type": "stream",
     "text": [
      "| epoch 900 | loss    0.004\n"
     ]
    },
    {
     "name": "stderr",
     "output_type": "stream",
     "text": [
      "100%|██████████| 1000/1000 [00:08<00:00, 123.18it/s]\n"
     ]
    },
    {
     "name": "stdout",
     "output_type": "stream",
     "text": [
      "-----------------------------------------------------------\n",
      "-----------------------------------------------------------\n",
      "training layer 2 ...\n"
     ]
    },
    {
     "name": "stderr",
     "output_type": "stream",
     "text": [
      " 14%|█▎        | 135/1000 [00:00<00:03, 217.41it/s]"
     ]
    },
    {
     "name": "stdout",
     "output_type": "stream",
     "text": [
      "| epoch 100 | loss    0.048\n"
     ]
    },
    {
     "name": "stderr",
     "output_type": "stream",
     "text": [
      " 23%|██▎       | 227/1000 [00:01<00:03, 223.83it/s]"
     ]
    },
    {
     "name": "stdout",
     "output_type": "stream",
     "text": [
      "| epoch 200 | loss    0.029\n"
     ]
    },
    {
     "name": "stderr",
     "output_type": "stream",
     "text": [
      " 34%|███▍      | 343/1000 [00:01<00:02, 223.52it/s]"
     ]
    },
    {
     "name": "stdout",
     "output_type": "stream",
     "text": [
      "| epoch 300 | loss    0.019\n"
     ]
    },
    {
     "name": "stderr",
     "output_type": "stream",
     "text": [
      " 44%|████▎     | 437/1000 [00:01<00:02, 229.48it/s]"
     ]
    },
    {
     "name": "stdout",
     "output_type": "stream",
     "text": [
      "| epoch 400 | loss    0.015\n"
     ]
    },
    {
     "name": "stderr",
     "output_type": "stream",
     "text": [
      " 53%|█████▎    | 533/1000 [00:02<00:01, 234.23it/s]"
     ]
    },
    {
     "name": "stdout",
     "output_type": "stream",
     "text": [
      "| epoch 500 | loss    0.013\n"
     ]
    },
    {
     "name": "stderr",
     "output_type": "stream",
     "text": [
      " 63%|██████▎   | 630/1000 [00:02<00:01, 233.88it/s]"
     ]
    },
    {
     "name": "stdout",
     "output_type": "stream",
     "text": [
      "| epoch 600 | loss    0.010\n"
     ]
    },
    {
     "name": "stderr",
     "output_type": "stream",
     "text": [
      " 73%|███████▎  | 727/1000 [00:03<00:01, 232.24it/s]"
     ]
    },
    {
     "name": "stdout",
     "output_type": "stream",
     "text": [
      "| epoch 700 | loss    0.008\n"
     ]
    },
    {
     "name": "stderr",
     "output_type": "stream",
     "text": [
      " 83%|████████▎ | 826/1000 [00:03<00:00, 231.34it/s]"
     ]
    },
    {
     "name": "stdout",
     "output_type": "stream",
     "text": [
      "| epoch 800 | loss    0.007\n"
     ]
    },
    {
     "name": "stderr",
     "output_type": "stream",
     "text": [
      " 94%|█████████▍| 942/1000 [00:04<00:00, 225.66it/s]"
     ]
    },
    {
     "name": "stdout",
     "output_type": "stream",
     "text": [
      "| epoch 900 | loss    0.007\n"
     ]
    },
    {
     "name": "stderr",
     "output_type": "stream",
     "text": [
      "100%|██████████| 1000/1000 [00:04<00:00, 226.58it/s]\n"
     ]
    },
    {
     "name": "stdout",
     "output_type": "stream",
     "text": [
      "-----------------------------------------------------------\n",
      "-----------------------------------------------------------\n",
      "training layer 3 ...\n"
     ]
    },
    {
     "name": "stderr",
     "output_type": "stream",
     "text": [
      " 12%|█▏        | 123/1000 [00:00<00:00, 1222.93it/s]"
     ]
    },
    {
     "name": "stdout",
     "output_type": "stream",
     "text": [
      "| epoch 100 | loss    0.108\n",
      "| epoch 200 | loss    0.085\n"
     ]
    },
    {
     "name": "stderr",
     "output_type": "stream",
     "text": [
      " 25%|██▌       | 252/1000 [00:00<00:00, 1257.55it/s]"
     ]
    },
    {
     "name": "stdout",
     "output_type": "stream",
     "text": [
      "| epoch 300 | loss    0.070\n"
     ]
    },
    {
     "name": "stderr",
     "output_type": "stream",
     "text": [
      " 50%|█████     | 504/1000 [00:00<00:00, 1246.13it/s]"
     ]
    },
    {
     "name": "stdout",
     "output_type": "stream",
     "text": [
      "| epoch 400 | loss    0.063\n",
      "| epoch 500 | loss    0.058\n"
     ]
    },
    {
     "name": "stderr",
     "output_type": "stream",
     "text": [
      " 63%|██████▎   | 629/1000 [00:00<00:00, 1226.01it/s]"
     ]
    },
    {
     "name": "stdout",
     "output_type": "stream",
     "text": [
      "| epoch 600 | loss    0.054\n"
     ]
    },
    {
     "name": "stderr",
     "output_type": "stream",
     "text": [
      " 75%|███████▌  | 754/1000 [00:00<00:00, 1232.60it/s]"
     ]
    },
    {
     "name": "stdout",
     "output_type": "stream",
     "text": [
      "| epoch 700 | loss    0.051\n",
      "| epoch 800 | loss    0.048\n"
     ]
    },
    {
     "name": "stderr",
     "output_type": "stream",
     "text": [
      " 88%|████████▊ | 878/1000 [00:00<00:00, 1218.06it/s]"
     ]
    },
    {
     "name": "stdout",
     "output_type": "stream",
     "text": [
      "| epoch 900 | loss    0.046\n"
     ]
    },
    {
     "name": "stderr",
     "output_type": "stream",
     "text": [
      "100%|██████████| 1000/1000 [00:00<00:00, 1218.93it/s]"
     ]
    },
    {
     "name": "stdout",
     "output_type": "stream",
     "text": [
      "-----------------------------------------------------------\n"
     ]
    },
    {
     "name": "stderr",
     "output_type": "stream",
     "text": [
      "\n"
     ]
    }
   ],
   "source": [
    "net = Net([embed_len, 256, 128, 64, NUM_CLASS])\n",
    "ls = net.train(x_pos, x_neg)"
   ]
  },
  {
   "cell_type": "code",
   "execution_count": 347,
   "id": "d87286ff",
   "metadata": {},
   "outputs": [
    {
     "data": {
      "text/plain": [
       "<matplotlib.legend.Legend at 0x7f8ac9a4c910>"
      ]
     },
     "execution_count": 347,
     "metadata": {},
     "output_type": "execute_result"
    },
    {
     "data": {
      "image/png": "[encoded data removed]",
      "text/plain": [
       "<Figure size 640x480 with 1 Axes>"
      ]
     },
     "metadata": {},
     "output_type": "display_data"
    }
   ],
   "source": [
    "for i,ly in enumerate(ls):\n",
    "  plt.plot(ls[i], label = 'layer: ' + str(i))\n",
    "plt.legend(loc=\"upper right\")"
   ]
  },
  {
   "cell_type": "code",
   "execution_count": 348,
   "id": "8c9e10cb",
   "metadata": {},
   "outputs": [
    {
     "name": "stdout",
     "output_type": "stream",
     "text": [
      "train acc: 1.0\n"
     ]
    }
   ],
   "source": [
    "print('train acc:', net.predict(x_train).eq(y).float().mean().item())"
   ]
  },
  {
   "cell_type": "code",
   "execution_count": null,
   "id": "3c188fd0",
   "metadata": {},
   "outputs": [],
   "source": []
  },
  {
   "cell_type": "code",
   "execution_count": null,
   "id": "e9748220",
   "metadata": {},
   "outputs": [],
   "source": []
  },
  {
   "cell_type": "markdown",
   "id": "6519154a",
   "metadata": {},
   "source": [
    "## Prediction"
   ]
  },
  {
   "cell_type": "code",
   "execution_count": 349,
   "id": "83a17787",
   "metadata": {},
   "outputs": [
    {
     "name": "stdout",
     "output_type": "stream",
     "text": [
      "Test Accuracy : 1.0\n"
     ]
    }
   ],
   "source": [
    "x_test, Y_actual = next(iter(train_loader))\n",
    "Y_preds = net.predict(x_test)\n",
    "print(\"Test Accuracy : {}\".format(accuracy_score(Y_actual, Y_preds)))"
   ]
  },
  {
   "cell_type": "code",
   "execution_count": null,
   "id": "2a2ac77b",
   "metadata": {},
   "outputs": [],
   "source": []
  },
  {
   "cell_type": "code",
   "execution_count": null,
   "id": "397ce0e1",
   "metadata": {},
   "outputs": [],
   "source": []
  },
  {
   "cell_type": "markdown",
   "id": "81f91091",
   "metadata": {},
   "source": [
    "# Baseline - BP"
   ]
  },
  {
   "cell_type": "markdown",
   "id": "200b05fc",
   "metadata": {},
   "source": [
    "## Dataset"
   ]
  },
  {
   "cell_type": "code",
   "execution_count": 350,
   "id": "3d158b7f",
   "metadata": {},
   "outputs": [],
   "source": [
    "def vectorize_batch(batch, embed_method = 'GloVe'):\n",
    "    Y, X = list(zip(*batch))\n",
    "    \n",
    "    if embed_method == 'GloVe':\n",
    "      X = [TOKENIZER(x) for x in X]\n",
    "      X_tensor = torch.zeros(len(batch), 300)\n",
    "      for i, tokens in enumerate(X):\n",
    "          X_tensor[i] = GLOVE.get_vecs_by_tokens(tokens).mean(dim=0) ## Averaging Embedding accross all words of text document\n",
    "    \n",
    "    if embed_method == 'sbert': #slow\n",
    "      X_tensor = torch.cat([sbert_mapping[x].unsqueeze(0) for x in X], dim=0)\n",
    "\n",
    "    return X_tensor, torch.tensor(Y) - 1 "
   ]
  },
  {
   "cell_type": "code",
   "execution_count": 351,
   "id": "a1c5443f",
   "metadata": {},
   "outputs": [],
   "source": [
    "num_train = round(0.95*len(train_dataset))\n",
    "split_train_, split_valid_ = random_split(train_dataset, [num_train, len(train_dataset) - num_train])\n",
    "\n",
    "train_loader = DataLoader(split_train_, batch_size=1024, collate_fn= lambda x : vectorize_batch(x, embed_method=EMBD))\n",
    "valid_loader = DataLoader(split_valid_, batch_size=1024, collate_fn= lambda x : vectorize_batch(x, embed_method=EMBD))\n",
    "test_loader = DataLoader(test_dataset, batch_size=1024, collate_fn= lambda x : vectorize_batch(x, embed_method=EMBD))"
   ]
  },
  {
   "cell_type": "code",
   "execution_count": 352,
   "id": "2e1287d3",
   "metadata": {},
   "outputs": [
    {
     "name": "stdout",
     "output_type": "stream",
     "text": [
      "tensor([[ 0.0125,  0.0829,  0.0958,  ..., -0.0590, -0.0161,  0.0346],\n",
      "        [-0.0847, -0.0032,  0.0161,  ..., -0.0043, -0.0676,  0.0497],\n",
      "        [-0.0747,  0.0524,  0.0301,  ...,  0.0337, -0.0941,  0.0408],\n",
      "        ...,\n",
      "        [ 0.0204, -0.0405,  0.0556,  ..., -0.0080, -0.0901,  0.0015],\n",
      "        [ 0.0582, -0.0111,  0.0519,  ..., -0.0315, -0.0327,  0.0051],\n",
      "        [-0.0711,  0.0805,  0.0473,  ...,  0.0098, -0.0608,  0.0558]])\n",
      "torch.Size([950, 384]) torch.Size([950])\n"
     ]
    }
   ],
   "source": [
    "for X, Y in train_loader:\n",
    "    print(X)\n",
    "    print(X.shape, Y.shape)\n",
    "    break"
   ]
  },
  {
   "cell_type": "code",
   "execution_count": 353,
   "id": "b3eb4fb7",
   "metadata": {},
   "outputs": [
    {
     "data": {
      "text/plain": [
       "384"
      ]
     },
     "execution_count": 353,
     "metadata": {},
     "output_type": "execute_result"
    }
   ],
   "source": [
    "embed_len = X.shape[1]\n",
    "embed_len"
   ]
  },
  {
   "cell_type": "markdown",
   "id": "5aa8a40d",
   "metadata": {},
   "source": [
    "## Model"
   ]
  },
  {
   "cell_type": "code",
   "execution_count": 354,
   "id": "dc51c359",
   "metadata": {},
   "outputs": [],
   "source": [
    "class EmbeddingClassifier(nn.Module):\n",
    "    def __init__(self):\n",
    "        super(EmbeddingClassifier, self).__init__()\n",
    "        self.seq = nn.Sequential(\n",
    "            nn.Linear(embed_len, 256),\n",
    "            nn.ReLU(),\n",
    "\n",
    "            nn.Linear(256,128),\n",
    "            nn.ReLU(),\n",
    "\n",
    "            nn.Linear(128,64),\n",
    "            nn.ReLU(),\n",
    "\n",
    "            nn.Linear(64, NUM_CLASS),\n",
    "        )\n",
    "\n",
    "    def forward(self, X_batch):\n",
    "        return self.seq(X_batch)"
   ]
  },
  {
   "cell_type": "code",
   "execution_count": null,
   "id": "25775647",
   "metadata": {},
   "outputs": [],
   "source": []
  },
  {
   "cell_type": "markdown",
   "id": "86476e2a",
   "metadata": {},
   "source": [
    "## Train the model"
   ]
  },
  {
   "cell_type": "code",
   "execution_count": 355,
   "id": "c187a40f",
   "metadata": {},
   "outputs": [],
   "source": [
    "def CalcValLossAndAccuracy(model, loss_fn, val_loader):\n",
    "    with torch.no_grad():\n",
    "        Y_shuffled, Y_preds, losses = [],[],[]\n",
    "        for X, Y in val_loader:\n",
    "            preds = model(X)\n",
    "            loss = loss_fn(preds, Y)\n",
    "            losses.append(loss.item())\n",
    "\n",
    "            Y_shuffled.append(Y)\n",
    "            Y_preds.append(preds.argmax(dim=-1))\n",
    "\n",
    "        Y_shuffled = torch.cat(Y_shuffled)\n",
    "        Y_preds = torch.cat(Y_preds)\n",
    "\n",
    "        # print(\"Valid Loss : {:.3f}\".format(torch.tensor(losses).mean()))\n",
    "        # print(\"Valid Acc  : {:.3f}\".format(accuracy_score(Y_shuffled.detach().numpy(), Y_preds.detach().numpy())))\n",
    "        return(torch.tensor(losses).mean(), accuracy_score(Y_shuffled.detach().numpy(), Y_preds.detach().numpy()))"
   ]
  },
  {
   "cell_type": "code",
   "execution_count": 356,
   "id": "00f01075",
   "metadata": {},
   "outputs": [],
   "source": [
    "def TrainModel(model, loss_fn, optimizer, train_loader, val_loader, epochs=10):\n",
    "    train_loss = []\n",
    "    train_acc = []\n",
    "    val_loss = []\n",
    "    val_acc = []\n",
    "    for i in range(1, epochs+1):\n",
    "        losses = []\n",
    "        for X, Y in tqdm(train_loader):\n",
    "            # X: Batch_size x (25*300)\n",
    "            # Y: Batch_size x 1\n",
    "            # Y_preds: Batch_size x num_class\n",
    "            Y_preds = model(X) \n",
    "\n",
    "            loss = loss_fn(Y_preds, Y)\n",
    "            losses.append(loss.item())\n",
    "\n",
    "            optimizer.zero_grad()\n",
    "            loss.backward()\n",
    "            optimizer.step()\n",
    "        train_loss.append(torch.tensor(losses).mean().item())\n",
    "        train_acc.append(accuracy_score(Y.numpy(), Y_preds.argmax(dim=-1).numpy()))\n",
    "        ls,ac = CalcValLossAndAccuracy(model, loss_fn, val_loader)\n",
    "        val_loss.append(ls)\n",
    "        val_acc.append(ac)\n",
    "\n",
    "        if i%5==0:\n",
    "            print(\"Train Loss : {:.4f}\".format(train_loss[-1]))\n",
    "            print(\"Train Acc  : {:.4f}\".format(train_acc[-1]))\n",
    "            print(\"Valid Loss : {:.4f}\".format(ls))\n",
    "            print(\"Valid Acc  : {:.4f}\".format(ac))\n",
    "            # CalcValLossAndAccuracy(model, loss_fn, val_loader)\n",
    "    return(train_loss,train_acc,val_loss,val_acc)"
   ]
  },
  {
   "cell_type": "code",
   "execution_count": 357,
   "id": "39a702be",
   "metadata": {},
   "outputs": [
    {
     "name": "stderr",
     "output_type": "stream",
     "text": [
      "100%|██████████| 1/1 [00:00<00:00, 67.49it/s]\n",
      "100%|██████████| 1/1 [00:00<00:00, 63.88it/s]\n",
      "100%|██████████| 1/1 [00:00<00:00, 75.76it/s]\n",
      "100%|██████████| 1/1 [00:00<00:00, 81.33it/s]\n",
      "100%|██████████| 1/1 [00:00<00:00, 70.73it/s]\n"
     ]
    },
    {
     "name": "stdout",
     "output_type": "stream",
     "text": [
      "Train Loss : 0.6881\n",
      "Train Acc  : 0.5295\n",
      "Valid Loss : 0.6773\n",
      "Valid Acc  : 0.6200\n"
     ]
    },
    {
     "name": "stderr",
     "output_type": "stream",
     "text": [
      "100%|██████████| 1/1 [00:00<00:00, 62.43it/s]\n",
      "100%|██████████| 1/1 [00:00<00:00, 70.28it/s]\n",
      "100%|██████████| 1/1 [00:00<00:00, 71.71it/s]\n",
      "100%|██████████| 1/1 [00:00<00:00, 72.59it/s]\n",
      "100%|██████████| 1/1 [00:00<00:00, 22.58it/s]\n"
     ]
    },
    {
     "name": "stdout",
     "output_type": "stream",
     "text": [
      "Train Loss : 0.6791\n",
      "Train Acc  : 0.5295\n",
      "Valid Loss : 0.6656\n",
      "Valid Acc  : 0.6200\n"
     ]
    },
    {
     "name": "stderr",
     "output_type": "stream",
     "text": [
      "100%|██████████| 1/1 [00:00<00:00, 46.79it/s]\n",
      "100%|██████████| 1/1 [00:00<00:00, 64.91it/s]\n",
      "100%|██████████| 1/1 [00:00<00:00, 73.10it/s]\n",
      "100%|██████████| 1/1 [00:00<00:00, 69.25it/s]\n",
      "100%|██████████| 1/1 [00:00<00:00, 73.70it/s]\n"
     ]
    },
    {
     "name": "stdout",
     "output_type": "stream",
     "text": [
      "Train Loss : 0.6617\n",
      "Train Acc  : 0.5779\n",
      "Valid Loss : 0.6434\n",
      "Valid Acc  : 0.7200\n"
     ]
    },
    {
     "name": "stderr",
     "output_type": "stream",
     "text": [
      "100%|██████████| 1/1 [00:00<00:00, 70.82it/s]\n",
      "100%|██████████| 1/1 [00:00<00:00, 82.90it/s]\n",
      "100%|██████████| 1/1 [00:00<00:00, 80.34it/s]\n",
      "100%|██████████| 1/1 [00:00<00:00, 68.12it/s]\n",
      "100%|██████████| 1/1 [00:00<00:00, 66.08it/s]"
     ]
    },
    {
     "name": "stdout",
     "output_type": "stream",
     "text": [
      "Train Loss : 0.6350\n",
      "Train Acc  : 0.7789\n",
      "Valid Loss : 0.6099\n",
      "Valid Acc  : 0.8600\n"
     ]
    },
    {
     "name": "stderr",
     "output_type": "stream",
     "text": [
      "\n"
     ]
    }
   ],
   "source": [
    "epochs = 20\n",
    "learning_rate = 5*1e-4\n",
    "\n",
    "loss_fn = nn.CrossEntropyLoss()\n",
    "embed_classifier = EmbeddingClassifier()\n",
    "optimizer = Adam(embed_classifier.parameters(), lr=learning_rate)\n",
    "\n",
    "train_loss,train_acc,val_loss,val_acc = TrainModel(embed_classifier, loss_fn, optimizer, train_loader, valid_loader, epochs)"
   ]
  },
  {
   "cell_type": "code",
   "execution_count": 358,
   "id": "6a03cc4a",
   "metadata": {},
   "outputs": [
    {
     "data": {
      "text/plain": [
       "<matplotlib.legend.Legend at 0x7f88efa881c0>"
      ]
     },
     "execution_count": 358,
     "metadata": {},
     "output_type": "execute_result"
    },
    {
     "data": {
      "image/png": "[encoded data removed]",
      "text/plain": [
       "<Figure size 640x480 with 1 Axes>"
      ]
     },
     "metadata": {},
     "output_type": "display_data"
    }
   ],
   "source": [
    "plt.plot(train_loss,label = 'train_loss')\n",
    "plt.plot(val_loss,label = 'val_loss')\n",
    "plt.legend(loc=\"upper right\")"
   ]
  },
  {
   "cell_type": "code",
   "execution_count": 359,
   "id": "656f1bdd",
   "metadata": {},
   "outputs": [
    {
     "data": {
      "text/plain": [
       "<matplotlib.legend.Legend at 0x7f88eb33a040>"
      ]
     },
     "execution_count": 359,
     "metadata": {},
     "output_type": "execute_result"
    },
    {
     "data": {
      "image/png": "[encoded data removed]",
      "text/plain": [
       "<Figure size 640x480 with 1 Axes>"
      ]
     },
     "metadata": {},
     "output_type": "display_data"
    }
   ],
   "source": [
    "plt.plot(train_acc,label = 'train_acc')\n",
    "plt.plot(val_acc,label = 'val_acc')\n",
    "plt.legend(loc=\"upper left\")"
   ]
  },
  {
   "cell_type": "markdown",
   "id": "7a50f266",
   "metadata": {},
   "source": [
    "## Prediction"
   ]
  },
  {
   "cell_type": "code",
   "execution_count": 360,
   "id": "9f3b2754",
   "metadata": {},
   "outputs": [],
   "source": [
    "def MakePredictions(model, loader):\n",
    "    Y_shuffled, Y_preds = [], []\n",
    "    for X, Y in loader:\n",
    "        preds = model(X)\n",
    "        Y_preds.append(preds)\n",
    "        Y_shuffled.append(Y)\n",
    "    gc.collect()\n",
    "    Y_preds, Y_shuffled = torch.cat(Y_preds), torch.cat(Y_shuffled)\n",
    "\n",
    "    return Y_shuffled.detach().numpy(), F.softmax(Y_preds, dim=-1).argmax(dim=-1).detach().numpy()\n",
    "\n",
    "Y_actual, Y_preds = MakePredictions(embed_classifier, test_loader)"
   ]
  },
  {
   "cell_type": "code",
   "execution_count": 361,
   "id": "90a4150e",
   "metadata": {},
   "outputs": [
    {
     "name": "stdout",
     "output_type": "stream",
     "text": [
      "Test Accuracy : 0.7483333333333333\n"
     ]
    }
   ],
   "source": [
    "print(\"Test Accuracy : {}\".format(accuracy_score(Y_actual, Y_preds)))"
   ]
  }
 ],
 "metadata": {
  "kernelspec": {
   "display_name": "Python 3 (ipykernel)",
   "language": "python",
   "name": "python3"
  },
  "language_info": {
   "codemirror_mode": {
    "name": "ipython",
    "version": 3
   },
   "file_extension": ".py",
   "mimetype": "text/x-python",
   "name": "python",
   "nbconvert_exporter": "python",
   "pygments_lexer": "ipython3",
   "version": "3.9.7"
  }
 },
 "nbformat": 4,
 "nbformat_minor": 5
}
