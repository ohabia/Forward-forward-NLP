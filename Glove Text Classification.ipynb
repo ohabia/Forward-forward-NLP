{
 "cells": [
  {
   "cell_type": "code",
   "execution_count": 123,
   "id": "080d50fc",
   "metadata": {},
   "outputs": [],
   "source": [
    "import argparse\n",
    "import logging\n",
    "import time\n",
    "\n",
    "import torch\n",
    "import torchtext\n",
    "from torch.utils.data import DataLoader\n",
    "from torch.utils.data.dataset import random_split\n",
    "from torchtext.data.functional import to_map_style_dataset\n",
    "from torchtext.data.utils import get_tokenizer\n",
    "from torchtext.datasets import DATASETS\n",
    "from torchtext.prototype.transforms import load_sp_model, PRETRAINED_SP_MODEL, SentencePieceTokenizer\n",
    "from torchtext.utils import download_from_url\n",
    "from torchtext.vocab import build_vocab_from_iterator\n",
    "import torch.nn as nn\n",
    "from torch.nn.utils.rnn import pad_sequence\n",
    "import torch.nn.functional as F\n",
    "from torchtext.vocab import GloVe, FastText\n",
    "from torch.optim import Adam\n",
    "from tqdm import tqdm\n",
    "from sklearn.metrics import accuracy_score\n",
    "import gc\n",
    "from sklearn.metrics import accuracy_score, classification_report, confusion_matrix\n",
    "from sklearn.metrics import confusion_matrix\n",
    "import scikitplot as skplt\n",
    "import matplotlib.pyplot as plt\n",
    "import numpy as np\n",
    "import random\n",
    "from sentence_transformers import SentenceTransformer"
   ]
  },
  {
   "cell_type": "code",
   "execution_count": 124,
   "id": "75d5624f",
   "metadata": {},
   "outputs": [],
   "source": [
    "# EXPERIMENT SETTING\n",
    "\n",
    "# embedding method\n",
    "EMBD = 'GloVe' # choose from 'GloVe' or 'sbert'\n",
    "# number of classification class - according to different Data Set\n",
    "NUM_CLASS = 4\n",
    "# Corruption: if not then concatnate\n",
    "INSERT = False "
   ]
  },
  {
   "cell_type": "markdown",
   "id": "12d93d22",
   "metadata": {},
   "source": [
    "## About Data Set\n",
    "\n",
    "AG News (AG’s News Corpus) is a subdataset of AG's corpus of news articles constructed by assembling titles and description fields of articles from the 4 largest classes (“World”, “Sports”, “Business”, “Sci/Tech”) of AG’s Corpus."
   ]
  },
  {
   "cell_type": "markdown",
   "id": "1a61aede",
   "metadata": {},
   "source": [
    "## Tokenizer\n",
    "- Different models tolenize in different ways. \n",
    "    - Word2Vec / GloVe does words (WordLevel).\n",
    "    - BERT does WordPiece.\n",
    "    - The original transformer did BytePairEncoding.\n",
    "    - FastText uses n-grams.\n"
   ]
  },
  {
   "cell_type": "code",
   "execution_count": 125,
   "id": "93e3b7cb",
   "metadata": {},
   "outputs": [],
   "source": [
    "TOKENIZER = get_tokenizer(\"basic_english\")"
   ]
  },
  {
   "cell_type": "markdown",
   "id": "840252c4",
   "metadata": {},
   "source": [
    "## Embedding: GloVE/sbert"
   ]
  },
  {
   "cell_type": "code",
   "execution_count": 126,
   "id": "c4589bd6",
   "metadata": {},
   "outputs": [],
   "source": [
    "# GloVe\n",
    "GLOVE = GloVe(name='840B', dim=300)\n",
    "#([6, 300])\n",
    "GLOVE.get_vecs_by_tokens(TOKENIZER(\"Hello, How are you?\"), lower_case_backup=True) \n",
    "\n",
    "\n",
    "# FASTTEXT = FastText()\n",
    "\n",
    "# sbert\n",
    "model = SentenceTransformer('all-MiniLM-L6-v2')\n",
    "sentences = ['This framework generates embeddings for each input sentence',\n",
    "    'Sentences are passed as a list of string.',\n",
    "    'The quick brown fox jumps over the lazy dog.']\n",
    "embeddings = model.encode(sentences) #([3, 384])"
   ]
  },
  {
   "cell_type": "markdown",
   "id": "3dde6b51",
   "metadata": {},
   "source": [
    "# Forward-Forward Algo"
   ]
  },
  {
   "cell_type": "markdown",
   "id": "92d6274d",
   "metadata": {},
   "source": [
    "## Dataset - get Positive Samples & Negative Samples"
   ]
  },
  {
   "cell_type": "code",
   "execution_count": 127,
   "id": "24a8dafc",
   "metadata": {},
   "outputs": [],
   "source": [
    "# define collate_fn with embedding method\n",
    "def vectorize_batch(batch, embed_method = 'GloVe'):\n",
    "    Y, X = list(zip(*batch))\n",
    "    X = [TOKENIZER(x) for x in X]\n",
    "    \n",
    "    if embed_method == 'GloVe':\n",
    "      X_tensor = torch.zeros(len(batch), 300)\n",
    "      for i, tokens in enumerate(X):\n",
    "          X_tensor[i] = GLOVE.get_vecs_by_tokens(tokens).mean(dim=0) ## Averaging Embedding accross all words of text document\n",
    "    \n",
    "    if embed_method == 'sbert': #slow\n",
    "      X_tensor = torch.from_numpy(model.encode(X))\n",
    "\n",
    "    return X_tensor, torch.tensor(Y) - 1 "
   ]
  },
  {
   "cell_type": "code",
   "execution_count": 128,
   "id": "6d97038c",
   "metadata": {},
   "outputs": [],
   "source": [
    "target_classes = [\"World\", \"Sports\", \"Business\", \"Sci/Tech\"]\n",
    "\n",
    "train_dataset, test_dataset  = torchtext.datasets.AG_NEWS()\n",
    "train_dataset, test_dataset = to_map_style_dataset(train_dataset), to_map_style_dataset(test_dataset)\n",
    "\n",
    "num_train = round(0.95*len(train_dataset))\n",
    "split_train_, split_valid_ = random_split(train_dataset, [num_train, len(train_dataset) - num_train])\n",
    "\n",
    "# torch.Size([114000, embed]) torch.Size([114000])\n",
    "train_loader = DataLoader(split_train_, batch_size=len(split_train_), collate_fn= lambda x : vectorize_batch(x, embed_method=EMBD))\n",
    "\n",
    "# torch.Size([6000, embed]) torch.Size([6000])\n",
    "valid_loader = DataLoader(split_valid_, batch_size=len(split_valid_), collate_fn= lambda x : vectorize_batch(x, embed_method=EMBD))\n",
    "\n",
    "# torch.Size([7600, embed]) torch.Size([7600])\n",
    "test_loader = DataLoader(test_dataset, batch_size=len(test_dataset), collate_fn= lambda x : vectorize_batch(x, embed_method=EMBD))"
   ]
  },
  {
   "cell_type": "code",
   "execution_count": 129,
   "id": "fd465398",
   "metadata": {},
   "outputs": [
    {
     "data": {
      "text/plain": [
       "(torch.Size([114000, 300]), torch.Size([114000]))"
      ]
     },
     "execution_count": 129,
     "metadata": {},
     "output_type": "execute_result"
    }
   ],
   "source": [
    "x_train, y = next(iter(train_loader))\n",
    "x_train.shape, y.shape"
   ]
  },
  {
   "cell_type": "code",
   "execution_count": 130,
   "id": "57b6cb66",
   "metadata": {},
   "outputs": [
    {
     "data": {
      "text/plain": [
       "(tensor([[-0.0421,  0.1912, -0.1017,  ..., -0.1023,  0.0779,  0.1128],\n",
       "         [ 0.0471,  0.1277, -0.0785,  ..., -0.0851, -0.0511, -0.0470],\n",
       "         [-0.0251,  0.0793, -0.0117,  ..., -0.0679, -0.0261,  0.1726],\n",
       "         [ 0.0912,  0.1563, -0.0576,  ...,  0.0051,  0.0223, -0.0458],\n",
       "         [-0.0985,  0.2043, -0.1233,  ...,  0.0211, -0.0731,  0.0318]]),\n",
       " tensor([2, 1, 2, 1, 1]))"
      ]
     },
     "execution_count": 130,
     "metadata": {},
     "output_type": "execute_result"
    }
   ],
   "source": [
    "x_train[:5,:],y[:5]"
   ]
  },
  {
   "cell_type": "code",
   "execution_count": 131,
   "id": "71e215a6",
   "metadata": {},
   "outputs": [],
   "source": [
    "def create_pos_neg(x_train, insert = True):\n",
    "  \n",
    "  x_pos = x_train.clone().detach()\n",
    "  x_neg = x_train.clone().detach()\n",
    "\n",
    "  # if concatenate\n",
    "  if not insert:\n",
    "    x_pos = torch.cat((torch.zeros(x_pos.size(0), NUM_CLASS), x_pos), 1)\n",
    "    x_neg = torch.cat((torch.zeros(x_neg.size(0), NUM_CLASS), x_neg), 1)\n",
    "  # if insert\n",
    "  else:\n",
    "    x_pos[:,0:NUM_CLASS] = torch.zeros(x_pos.size(0), NUM_CLASS)\n",
    "    x_neg[:,0:NUM_CLASS] = torch.zeros(x_neg.size(0), NUM_CLASS)\n",
    "\n",
    "  y_ = torch.randint(0,NUM_CLASS,(x_neg.size(0),))\n",
    "\n",
    "  for i in range(x_neg.size(0)):\n",
    "    x_pos[i,y[i]] = 1\n",
    "    # x_neg[i,y_[i]] = 1\n",
    "    # # NOTE: y_[i] maybe the right label, which will certainly hurt experiment results!\n",
    "    if y_[i] != y[i]:\n",
    "      x_neg[i,y_[i]] = 1\n",
    "    else:\n",
    "      x_neg[i,(y[i]+1)%NUM_CLASS] = 1\n",
    "  \n",
    "  return x_pos, x_neg"
   ]
  },
  {
   "cell_type": "code",
   "execution_count": 132,
   "id": "8303cce2",
   "metadata": {},
   "outputs": [
    {
     "data": {
      "text/plain": [
       "304"
      ]
     },
     "execution_count": 132,
     "metadata": {},
     "output_type": "execute_result"
    }
   ],
   "source": [
    "x_pos, x_neg = create_pos_neg(x_train, insert=INSERT)\n",
    "embed_len = x_pos.shape[1]\n",
    "embed_len"
   ]
  },
  {
   "cell_type": "code",
   "execution_count": 133,
   "id": "5497b443",
   "metadata": {},
   "outputs": [
    {
     "name": "stdout",
     "output_type": "stream",
     "text": [
      "tensor([[ 0.0000,  0.0000,  1.0000,  ..., -0.1023,  0.0779,  0.1128],\n",
      "        [ 0.0000,  1.0000,  0.0000,  ..., -0.0851, -0.0511, -0.0470],\n",
      "        [ 0.0000,  0.0000,  1.0000,  ..., -0.0679, -0.0261,  0.1726],\n",
      "        [ 0.0000,  1.0000,  0.0000,  ...,  0.0051,  0.0223, -0.0458],\n",
      "        [ 0.0000,  1.0000,  0.0000,  ...,  0.0211, -0.0731,  0.0318]])\n",
      "tensor([[ 0.0000,  1.0000,  0.0000,  ..., -0.1023,  0.0779,  0.1128],\n",
      "        [ 0.0000,  0.0000,  0.0000,  ..., -0.0851, -0.0511, -0.0470],\n",
      "        [ 0.0000,  0.0000,  0.0000,  ..., -0.0679, -0.0261,  0.1726],\n",
      "        [ 0.0000,  0.0000,  0.0000,  ...,  0.0051,  0.0223, -0.0458],\n",
      "        [ 0.0000,  0.0000,  1.0000,  ...,  0.0211, -0.0731,  0.0318]])\n"
     ]
    }
   ],
   "source": [
    "print(x_pos[:5,:])\n",
    "print(x_neg[:5,:])"
   ]
  },
  {
   "cell_type": "code",
   "execution_count": null,
   "id": "bc70d441",
   "metadata": {},
   "outputs": [],
   "source": []
  },
  {
   "cell_type": "markdown",
   "id": "42b3dab4",
   "metadata": {},
   "source": [
    "## Model"
   ]
  },
  {
   "cell_type": "code",
   "execution_count": 134,
   "id": "9f0cc0c7",
   "metadata": {},
   "outputs": [],
   "source": [
    "layer_epoch = 1000\n",
    "layer_threshold = 5  #2.0\n",
    "\n",
    "class Layer(nn.Linear):\n",
    "    def __init__(self, in_features, out_features,\n",
    "                 bias=True, device=None, dtype=None):\n",
    "        super().__init__(in_features, out_features, bias, device, dtype)\n",
    "        self.relu = torch.nn.ReLU()\n",
    "        self.opt = Adam(self.parameters(), lr=0.03)\n",
    "        self.threshold = layer_threshold\n",
    "        self.num_epochs = layer_epoch\n",
    "\n",
    "    def forward(self, x):\n",
    "        x_direction = x / (x.norm(p = 2, dim = 1, keepdim=True) + 1e-4)\n",
    "        return self.relu(\n",
    "            torch.mm(x_direction, self.weight.T) +\n",
    "            self.bias.unsqueeze(0))\n",
    "\n",
    "    def train(self, x_pos, x_neg):\n",
    "        for i in tqdm(range(self.num_epochs)):\n",
    "            # torch.Size([114000, embed]) --> torch.Size([114000])\n",
    "            g_pos = self.forward(x_pos).pow(2).mean(1)\n",
    "            g_neg = self.forward(x_neg).pow(2).mean(1)\n",
    "            # The following loss pushes pos (neg) samples to\n",
    "            # values larger (smaller) than the self.threshold.\n",
    "\n",
    "            # after exp()  torch.Size([228000])\n",
    "            # loss torch.size([1])\n",
    "            loss = torch.log(1 + torch.exp(torch.cat([\n",
    "                -g_pos + self.threshold,\n",
    "                g_neg - self.threshold]))).mean()\n",
    "\n",
    "            self.opt.zero_grad()\n",
    "            # this backward just compute the derivative and hence\n",
    "            # is not considered backpropagation.\n",
    "            loss.backward()\n",
    "            self.opt.step()\n",
    "\n",
    "            if i % 100 == 0 and i > 0:\n",
    "              print(\n",
    "                \"| epoch {:3d} | loss {:8.3f}\".format(i, loss)\n",
    "              )\n",
    "        return self.forward(x_pos).detach(), self.forward(x_neg).detach()"
   ]
  },
  {
   "cell_type": "code",
   "execution_count": 135,
   "id": "8fa5935d",
   "metadata": {},
   "outputs": [],
   "source": [
    "class Net(torch.nn.Module):\n",
    "\n",
    "    def __init__(self, dims):\n",
    "        super().__init__()\n",
    "        self.layers = []\n",
    "        for d in range(len(dims) - 1):\n",
    "            self.layers += [Layer(dims[d], dims[d + 1])]\n",
    "        print(self.layers)\n",
    "\n",
    "    def predict(self, x):\n",
    "        goodness_per_label = []\n",
    "        for label in range(NUM_CLASS):\n",
    "            h = x.clone().detach()\n",
    "            if INSERT:\n",
    "              h[:, 0:NUM_CLASS] = torch.zeros(x.size(0), NUM_CLASS)\n",
    "            else:\n",
    "              h = torch.cat((torch.zeros(x.size(0), NUM_CLASS), h), dim = 1)\n",
    "            h[:, label] = 1      \n",
    "            # 4 , x.size(0)      \n",
    "            goodness = []\n",
    "            for layer in self.layers:\n",
    "                h = layer(h)\n",
    "                goodness += [h.pow(2).mean(1)]\n",
    "\n",
    "            goodness_per_label += [sum(goodness).unsqueeze(1)]\n",
    "        # [torch(x.size(0)),torch(x.size(0)),torch(x.size(0)),torch(x.size(0))]\n",
    "        goodness_per_label = torch.cat(goodness_per_label, 1)\n",
    "        # print(goodness_per_label.shape)\n",
    "        return goodness_per_label.argmax(1)\n",
    "\n",
    "    def train(self, x_pos, x_neg):\n",
    "        h_pos, h_neg = x_pos, x_neg\n",
    "        for i, layer in enumerate(self.layers):\n",
    "            print(\"-\" * 59)\n",
    "            print('training layer', i, '...')\n",
    "            h_pos, h_neg = layer.train(h_pos, h_neg)\n",
    "            print(\"-\" * 59)"
   ]
  },
  {
   "cell_type": "markdown",
   "id": "0931b00a",
   "metadata": {},
   "source": [
    "## Train the model"
   ]
  },
  {
   "cell_type": "code",
   "execution_count": 136,
   "id": "446d2fa1",
   "metadata": {},
   "outputs": [
    {
     "name": "stdout",
     "output_type": "stream",
     "text": [
      "[Layer(\n",
      "  in_features=304, out_features=256, bias=True\n",
      "  (relu): ReLU()\n",
      "), Layer(\n",
      "  in_features=256, out_features=128, bias=True\n",
      "  (relu): ReLU()\n",
      "), Layer(\n",
      "  in_features=128, out_features=64, bias=True\n",
      "  (relu): ReLU()\n",
      "), Layer(\n",
      "  in_features=64, out_features=4, bias=True\n",
      "  (relu): ReLU()\n",
      ")]\n",
      "-----------------------------------------------------------\n",
      "training layer 0 ...\n"
     ]
    },
    {
     "name": "stderr",
     "output_type": "stream",
     "text": [
      " 10%|█         | 101/1000 [01:05<09:39,  1.55it/s]"
     ]
    },
    {
     "name": "stdout",
     "output_type": "stream",
     "text": [
      "| epoch 100 | loss    0.690\n"
     ]
    },
    {
     "name": "stderr",
     "output_type": "stream",
     "text": [
      " 20%|██        | 201/1000 [02:11<08:54,  1.50it/s]"
     ]
    },
    {
     "name": "stdout",
     "output_type": "stream",
     "text": [
      "| epoch 200 | loss    0.531\n"
     ]
    },
    {
     "name": "stderr",
     "output_type": "stream",
     "text": [
      " 30%|███       | 301/1000 [03:17<08:18,  1.40it/s]"
     ]
    },
    {
     "name": "stdout",
     "output_type": "stream",
     "text": [
      "| epoch 300 | loss    0.386\n"
     ]
    },
    {
     "name": "stderr",
     "output_type": "stream",
     "text": [
      " 40%|████      | 401/1000 [04:22<06:31,  1.53it/s]"
     ]
    },
    {
     "name": "stdout",
     "output_type": "stream",
     "text": [
      "| epoch 400 | loss    0.308\n"
     ]
    },
    {
     "name": "stderr",
     "output_type": "stream",
     "text": [
      " 50%|█████     | 501/1000 [05:27<05:17,  1.57it/s]"
     ]
    },
    {
     "name": "stdout",
     "output_type": "stream",
     "text": [
      "| epoch 500 | loss    0.267\n"
     ]
    },
    {
     "name": "stderr",
     "output_type": "stream",
     "text": [
      " 60%|██████    | 601/1000 [06:32<04:20,  1.53it/s]"
     ]
    },
    {
     "name": "stdout",
     "output_type": "stream",
     "text": [
      "| epoch 600 | loss    0.243\n"
     ]
    },
    {
     "name": "stderr",
     "output_type": "stream",
     "text": [
      " 70%|███████   | 701/1000 [07:37<03:15,  1.53it/s]"
     ]
    },
    {
     "name": "stdout",
     "output_type": "stream",
     "text": [
      "| epoch 700 | loss    0.228\n"
     ]
    },
    {
     "name": "stderr",
     "output_type": "stream",
     "text": [
      " 80%|████████  | 801/1000 [08:42<02:09,  1.53it/s]"
     ]
    },
    {
     "name": "stdout",
     "output_type": "stream",
     "text": [
      "| epoch 800 | loss    0.218\n"
     ]
    },
    {
     "name": "stderr",
     "output_type": "stream",
     "text": [
      " 90%|█████████ | 901/1000 [09:47<01:05,  1.51it/s]"
     ]
    },
    {
     "name": "stdout",
     "output_type": "stream",
     "text": [
      "| epoch 900 | loss    0.211\n"
     ]
    },
    {
     "name": "stderr",
     "output_type": "stream",
     "text": [
      "100%|██████████| 1000/1000 [10:52<00:00,  1.53it/s]\n"
     ]
    },
    {
     "name": "stdout",
     "output_type": "stream",
     "text": [
      "-----------------------------------------------------------\n",
      "-----------------------------------------------------------\n",
      "training layer 1 ...\n"
     ]
    },
    {
     "name": "stderr",
     "output_type": "stream",
     "text": [
      " 10%|█         | 101/1000 [00:28<04:18,  3.48it/s]"
     ]
    },
    {
     "name": "stdout",
     "output_type": "stream",
     "text": [
      "| epoch 100 | loss    0.482\n"
     ]
    },
    {
     "name": "stderr",
     "output_type": "stream",
     "text": [
      " 20%|██        | 201/1000 [00:56<03:41,  3.61it/s]"
     ]
    },
    {
     "name": "stdout",
     "output_type": "stream",
     "text": [
      "| epoch 200 | loss    0.298\n"
     ]
    },
    {
     "name": "stderr",
     "output_type": "stream",
     "text": [
      " 30%|███       | 301/1000 [01:26<03:13,  3.62it/s]"
     ]
    },
    {
     "name": "stdout",
     "output_type": "stream",
     "text": [
      "| epoch 300 | loss    0.269\n"
     ]
    },
    {
     "name": "stderr",
     "output_type": "stream",
     "text": [
      " 40%|████      | 401/1000 [01:54<02:43,  3.66it/s]"
     ]
    },
    {
     "name": "stdout",
     "output_type": "stream",
     "text": [
      "| epoch 400 | loss    0.255\n"
     ]
    },
    {
     "name": "stderr",
     "output_type": "stream",
     "text": [
      " 50%|█████     | 501/1000 [02:22<02:19,  3.57it/s]"
     ]
    },
    {
     "name": "stdout",
     "output_type": "stream",
     "text": [
      "| epoch 500 | loss    0.247\n"
     ]
    },
    {
     "name": "stderr",
     "output_type": "stream",
     "text": [
      " 60%|██████    | 601/1000 [02:49<01:50,  3.60it/s]"
     ]
    },
    {
     "name": "stdout",
     "output_type": "stream",
     "text": [
      "| epoch 600 | loss    0.240\n"
     ]
    },
    {
     "name": "stderr",
     "output_type": "stream",
     "text": [
      " 70%|███████   | 701/1000 [03:17<01:21,  3.67it/s]"
     ]
    },
    {
     "name": "stdout",
     "output_type": "stream",
     "text": [
      "| epoch 700 | loss    0.234\n"
     ]
    },
    {
     "name": "stderr",
     "output_type": "stream",
     "text": [
      " 80%|████████  | 801/1000 [03:45<01:00,  3.31it/s]"
     ]
    },
    {
     "name": "stdout",
     "output_type": "stream",
     "text": [
      "| epoch 800 | loss    0.230\n"
     ]
    },
    {
     "name": "stderr",
     "output_type": "stream",
     "text": [
      " 90%|█████████ | 901/1000 [04:12<00:27,  3.57it/s]"
     ]
    },
    {
     "name": "stdout",
     "output_type": "stream",
     "text": [
      "| epoch 900 | loss    0.226\n"
     ]
    },
    {
     "name": "stderr",
     "output_type": "stream",
     "text": [
      "100%|██████████| 1000/1000 [04:40<00:00,  3.57it/s]\n"
     ]
    },
    {
     "name": "stdout",
     "output_type": "stream",
     "text": [
      "-----------------------------------------------------------\n",
      "-----------------------------------------------------------\n",
      "training layer 2 ...\n"
     ]
    },
    {
     "name": "stderr",
     "output_type": "stream",
     "text": [
      " 10%|█         | 102/1000 [00:11<01:40,  8.94it/s]"
     ]
    },
    {
     "name": "stdout",
     "output_type": "stream",
     "text": [
      "| epoch 100 | loss    0.479\n"
     ]
    },
    {
     "name": "stderr",
     "output_type": "stream",
     "text": [
      " 20%|██        | 202/1000 [00:22<01:30,  8.87it/s]"
     ]
    },
    {
     "name": "stdout",
     "output_type": "stream",
     "text": [
      "| epoch 200 | loss    0.454\n"
     ]
    },
    {
     "name": "stderr",
     "output_type": "stream",
     "text": [
      " 30%|███       | 302/1000 [00:33<01:16,  9.07it/s]"
     ]
    },
    {
     "name": "stdout",
     "output_type": "stream",
     "text": [
      "| epoch 300 | loss    0.434\n"
     ]
    },
    {
     "name": "stderr",
     "output_type": "stream",
     "text": [
      " 40%|████      | 402/1000 [00:45<01:07,  8.82it/s]"
     ]
    },
    {
     "name": "stdout",
     "output_type": "stream",
     "text": [
      "| epoch 400 | loss    0.419\n"
     ]
    },
    {
     "name": "stderr",
     "output_type": "stream",
     "text": [
      " 50%|█████     | 502/1000 [00:56<00:55,  8.94it/s]"
     ]
    },
    {
     "name": "stdout",
     "output_type": "stream",
     "text": [
      "| epoch 500 | loss    0.407\n"
     ]
    },
    {
     "name": "stderr",
     "output_type": "stream",
     "text": [
      " 60%|██████    | 602/1000 [01:07<00:44,  9.01it/s]"
     ]
    },
    {
     "name": "stdout",
     "output_type": "stream",
     "text": [
      "| epoch 600 | loss    0.397\n"
     ]
    },
    {
     "name": "stderr",
     "output_type": "stream",
     "text": [
      " 70%|███████   | 702/1000 [01:18<00:33,  8.95it/s]"
     ]
    },
    {
     "name": "stdout",
     "output_type": "stream",
     "text": [
      "| epoch 700 | loss    0.388\n"
     ]
    },
    {
     "name": "stderr",
     "output_type": "stream",
     "text": [
      " 80%|████████  | 802/1000 [01:29<00:21,  9.05it/s]"
     ]
    },
    {
     "name": "stdout",
     "output_type": "stream",
     "text": [
      "| epoch 800 | loss    0.381\n"
     ]
    },
    {
     "name": "stderr",
     "output_type": "stream",
     "text": [
      " 90%|█████████ | 902/1000 [01:41<00:10,  9.03it/s]"
     ]
    },
    {
     "name": "stdout",
     "output_type": "stream",
     "text": [
      "| epoch 900 | loss    0.374\n"
     ]
    },
    {
     "name": "stderr",
     "output_type": "stream",
     "text": [
      "100%|██████████| 1000/1000 [01:52<00:00,  8.93it/s]\n"
     ]
    },
    {
     "name": "stdout",
     "output_type": "stream",
     "text": [
      "-----------------------------------------------------------\n",
      "-----------------------------------------------------------\n",
      "training layer 3 ...\n"
     ]
    },
    {
     "name": "stderr",
     "output_type": "stream",
     "text": [
      " 10%|█         | 105/1000 [00:02<00:22, 39.23it/s]"
     ]
    },
    {
     "name": "stdout",
     "output_type": "stream",
     "text": [
      "| epoch 100 | loss    0.614\n"
     ]
    },
    {
     "name": "stderr",
     "output_type": "stream",
     "text": [
      " 21%|██        | 206/1000 [00:05<00:19, 40.26it/s]"
     ]
    },
    {
     "name": "stdout",
     "output_type": "stream",
     "text": [
      "| epoch 200 | loss    0.611\n"
     ]
    },
    {
     "name": "stderr",
     "output_type": "stream",
     "text": [
      " 31%|███       | 307/1000 [00:07<00:17, 39.22it/s]"
     ]
    },
    {
     "name": "stdout",
     "output_type": "stream",
     "text": [
      "| epoch 300 | loss    0.608\n"
     ]
    },
    {
     "name": "stderr",
     "output_type": "stream",
     "text": [
      " 40%|████      | 405/1000 [00:10<00:15, 39.14it/s]"
     ]
    },
    {
     "name": "stdout",
     "output_type": "stream",
     "text": [
      "| epoch 400 | loss    0.605\n"
     ]
    },
    {
     "name": "stderr",
     "output_type": "stream",
     "text": [
      " 50%|█████     | 505/1000 [00:12<00:12, 39.47it/s]"
     ]
    },
    {
     "name": "stdout",
     "output_type": "stream",
     "text": [
      "| epoch 500 | loss    0.603\n"
     ]
    },
    {
     "name": "stderr",
     "output_type": "stream",
     "text": [
      " 61%|██████    | 608/1000 [00:15<00:09, 39.59it/s]"
     ]
    },
    {
     "name": "stdout",
     "output_type": "stream",
     "text": [
      "| epoch 600 | loss    0.601\n"
     ]
    },
    {
     "name": "stderr",
     "output_type": "stream",
     "text": [
      " 71%|███████   | 709/1000 [00:18<00:07, 37.67it/s]"
     ]
    },
    {
     "name": "stdout",
     "output_type": "stream",
     "text": [
      "| epoch 700 | loss    0.598\n"
     ]
    },
    {
     "name": "stderr",
     "output_type": "stream",
     "text": [
      " 81%|████████  | 809/1000 [00:20<00:04, 39.63it/s]"
     ]
    },
    {
     "name": "stdout",
     "output_type": "stream",
     "text": [
      "| epoch 800 | loss    0.596\n"
     ]
    },
    {
     "name": "stderr",
     "output_type": "stream",
     "text": [
      " 91%|█████████ | 908/1000 [00:23<00:02, 39.77it/s]"
     ]
    },
    {
     "name": "stdout",
     "output_type": "stream",
     "text": [
      "| epoch 900 | loss    0.594\n"
     ]
    },
    {
     "name": "stderr",
     "output_type": "stream",
     "text": [
      "100%|██████████| 1000/1000 [00:25<00:00, 39.21it/s]"
     ]
    },
    {
     "name": "stdout",
     "output_type": "stream",
     "text": [
      "-----------------------------------------------------------\n"
     ]
    },
    {
     "name": "stderr",
     "output_type": "stream",
     "text": [
      "\n"
     ]
    }
   ],
   "source": [
    "net = Net([embed_len, 256, 128, 64, len(target_classes)])\n",
    "net.train(x_pos, x_neg)"
   ]
  },
  {
   "cell_type": "code",
   "execution_count": 137,
   "id": "8c9e10cb",
   "metadata": {},
   "outputs": [
    {
     "name": "stdout",
     "output_type": "stream",
     "text": [
      "train acc: 0.8902368545532227\n"
     ]
    }
   ],
   "source": [
    "print('train acc:', net.predict(x_train).eq(y).float().mean().item())"
   ]
  },
  {
   "cell_type": "markdown",
   "id": "dadfb303",
   "metadata": {},
   "source": []
  },
  {
   "cell_type": "code",
   "execution_count": null,
   "id": "1d8556b1",
   "metadata": {},
   "outputs": [],
   "source": []
  },
  {
   "cell_type": "code",
   "execution_count": null,
   "id": "e9748220",
   "metadata": {},
   "outputs": [],
   "source": []
  },
  {
   "cell_type": "markdown",
   "id": "6519154a",
   "metadata": {},
   "source": [
    "## Prediction"
   ]
  },
  {
   "cell_type": "code",
   "execution_count": 138,
   "id": "83a17787",
   "metadata": {},
   "outputs": [],
   "source": [
    "x_test, Y_actual = next(iter(train_loader))\n",
    "Y_preds = net.predict(x_test)"
   ]
  },
  {
   "cell_type": "code",
   "execution_count": 139,
   "id": "a6569bb6",
   "metadata": {},
   "outputs": [
    {
     "name": "stdout",
     "output_type": "stream",
     "text": [
      "Test Accuracy : 0.8902368421052631\n",
      "\n",
      "Classification Report : \n",
      "              precision    recall  f1-score   support\n",
      "\n",
      "       World       0.92      0.87      0.90     28528\n",
      "      Sports       0.93      0.98      0.96     28423\n",
      "    Business       0.83      0.87      0.85     28534\n",
      "    Sci/Tech       0.87      0.84      0.86     28515\n",
      "\n",
      "    accuracy                           0.89    114000\n",
      "   macro avg       0.89      0.89      0.89    114000\n",
      "weighted avg       0.89      0.89      0.89    114000\n",
      "\n",
      "\n",
      "Confusion Matrix : \n",
      "[[24870  1075  1649   934]\n",
      " [  260 27830   188   145]\n",
      " [  856   411 24849  2418]\n",
      " [  925   480  3172 23938]]\n"
     ]
    }
   ],
   "source": [
    "print(\"Test Accuracy : {}\".format(accuracy_score(Y_actual, Y_preds)))\n",
    "print(\"\\nClassification Report : \")\n",
    "print(classification_report(Y_actual, Y_preds, target_names=target_classes))\n",
    "print(\"\\nConfusion Matrix : \")\n",
    "print(confusion_matrix(Y_actual, Y_preds))"
   ]
  },
  {
   "cell_type": "code",
   "execution_count": 140,
   "id": "fc7167e6",
   "metadata": {},
   "outputs": [
    {
     "data": {
      "image/png": "[encoded data removed]",
      "text/plain": [
       "<Figure size 500x500 with 2 Axes>"
      ]
     },
     "metadata": {},
     "output_type": "display_data"
    }
   ],
   "source": [
    "skplt.metrics.plot_confusion_matrix([target_classes[i] for i in Y_actual], [target_classes[i] for i in Y_preds],\n",
    "                                    normalize=True,\n",
    "                                    title=\"Confusion Matrix\",\n",
    "                                    cmap=\"Purples\",\n",
    "                                    hide_zeros=True,\n",
    "                                    figsize=(5,5)\n",
    "                                    );\n",
    "plt.xticks(rotation=90);"
   ]
  },
  {
   "cell_type": "code",
   "execution_count": null,
   "id": "c249bae0",
   "metadata": {},
   "outputs": [],
   "source": []
  },
  {
   "cell_type": "code",
   "execution_count": null,
   "id": "2a2ac77b",
   "metadata": {},
   "outputs": [],
   "source": []
  },
  {
   "cell_type": "code",
   "execution_count": null,
   "id": "397ce0e1",
   "metadata": {},
   "outputs": [],
   "source": []
  },
  {
   "cell_type": "markdown",
   "id": "81f91091",
   "metadata": {},
   "source": [
    "# Baseline"
   ]
  },
  {
   "cell_type": "markdown",
   "id": "200b05fc",
   "metadata": {},
   "source": [
    "## Dataset"
   ]
  },
  {
   "cell_type": "code",
   "execution_count": 141,
   "id": "ff479986",
   "metadata": {},
   "outputs": [],
   "source": [
    "# define collate_fn with embedding method\n",
    "def vectorize_batch(batch, embed_method = 'GloVe'):\n",
    "    Y, X = list(zip(*batch))\n",
    "    X = [TOKENIZER(x) for x in X]\n",
    "    \n",
    "    if embed_method == 'GloVe':\n",
    "      X_tensor = torch.zeros(len(batch), 300)\n",
    "      for i, tokens in enumerate(X):\n",
    "          X_tensor[i] = GLOVE.get_vecs_by_tokens(tokens).mean(dim=0) ## Averaging Embedding accross all words of text document\n",
    "    \n",
    "    if embed_method == 'sbert': #slow\n",
    "      X_tensor = torch.from_numpy(model.encode(X))\n",
    "\n",
    "    return X_tensor, torch.tensor(Y) - 1 \n",
    "\n",
    "\n",
    "target_classes = [\"World\", \"Sports\", \"Business\", \"Sci/Tech\"]\n",
    "\n",
    "train_dataset, test_dataset  = torchtext.datasets.AG_NEWS()\n",
    "train_dataset, test_dataset = to_map_style_dataset(train_dataset), to_map_style_dataset(test_dataset)\n",
    "\n",
    "num_train = round(0.95*len(train_dataset))\n",
    "split_train_, split_valid_ = random_split(train_dataset, [num_train, len(train_dataset) - num_train])\n",
    "\n",
    "train_loader = DataLoader(split_train_, batch_size=1024, collate_fn= lambda x : vectorize_batch(x, embed_method=EMBD))\n",
    "valid_loader = DataLoader(split_valid_, batch_size=1024, collate_fn= lambda x : vectorize_batch(x, embed_method=EMBD))\n",
    "test_loader = DataLoader(test_dataset, batch_size=1024, collate_fn= lambda x : vectorize_batch(x, embed_method=EMBD))"
   ]
  },
  {
   "cell_type": "code",
   "execution_count": 142,
   "id": "2e1287d3",
   "metadata": {},
   "outputs": [
    {
     "name": "stdout",
     "output_type": "stream",
     "text": [
      "tensor([[ 0.0754,  0.1507, -0.0853,  ..., -0.0506, -0.0121, -0.0769],\n",
      "        [-0.1080,  0.1522,  0.0060,  ..., -0.1904, -0.0234,  0.2411],\n",
      "        [-0.0853,  0.0885,  0.1069,  ..., -0.0681, -0.0925,  0.0763],\n",
      "        ...,\n",
      "        [ 0.0511,  0.1253, -0.0645,  ..., -0.0036,  0.0241,  0.0201],\n",
      "        [ 0.0185,  0.1185,  0.0468,  ..., -0.2462,  0.0511,  0.1464],\n",
      "        [ 0.0282,  0.1421, -0.0337,  ..., -0.0240,  0.0511,  0.0083]])\n",
      "torch.Size([1024, 300]) torch.Size([1024])\n"
     ]
    }
   ],
   "source": [
    "for X, Y in train_loader:\n",
    "    print(X)\n",
    "    print(X.shape, Y.shape)\n",
    "    break"
   ]
  },
  {
   "cell_type": "code",
   "execution_count": 143,
   "id": "b3eb4fb7",
   "metadata": {},
   "outputs": [
    {
     "data": {
      "text/plain": [
       "300"
      ]
     },
     "execution_count": 143,
     "metadata": {},
     "output_type": "execute_result"
    }
   ],
   "source": [
    "embed_len = X.shape[1]\n",
    "embed_len"
   ]
  },
  {
   "cell_type": "markdown",
   "id": "5aa8a40d",
   "metadata": {},
   "source": [
    "## Model"
   ]
  },
  {
   "cell_type": "code",
   "execution_count": 144,
   "id": "dc51c359",
   "metadata": {},
   "outputs": [],
   "source": [
    "class EmbeddingClassifier(nn.Module):\n",
    "    def __init__(self):\n",
    "        super(EmbeddingClassifier, self).__init__()\n",
    "        self.seq = nn.Sequential(\n",
    "            nn.Linear(embed_len, 256),\n",
    "            nn.ReLU(),\n",
    "\n",
    "            nn.Linear(256,128),\n",
    "            nn.ReLU(),\n",
    "\n",
    "            nn.Linear(128,64),\n",
    "            nn.ReLU(),\n",
    "\n",
    "            nn.Linear(64, len(target_classes)),\n",
    "        )\n",
    "\n",
    "    def forward(self, X_batch):\n",
    "        return self.seq(X_batch)"
   ]
  },
  {
   "cell_type": "code",
   "execution_count": null,
   "id": "25775647",
   "metadata": {},
   "outputs": [],
   "source": []
  },
  {
   "cell_type": "markdown",
   "id": "86476e2a",
   "metadata": {},
   "source": [
    "## Train the model"
   ]
  },
  {
   "cell_type": "code",
   "execution_count": 145,
   "id": "c187a40f",
   "metadata": {},
   "outputs": [],
   "source": [
    "def CalcValLossAndAccuracy(model, loss_fn, val_loader):\n",
    "    with torch.no_grad():\n",
    "        Y_shuffled, Y_preds, losses = [],[],[]\n",
    "        for X, Y in val_loader:\n",
    "            preds = model(X)\n",
    "            loss = loss_fn(preds, Y)\n",
    "            losses.append(loss.item())\n",
    "\n",
    "            Y_shuffled.append(Y)\n",
    "            Y_preds.append(preds.argmax(dim=-1))\n",
    "\n",
    "        Y_shuffled = torch.cat(Y_shuffled)\n",
    "        Y_preds = torch.cat(Y_preds)\n",
    "\n",
    "        print(\"Valid Loss : {:.3f}\".format(torch.tensor(losses).mean()))\n",
    "        print(\"Valid Acc  : {:.3f}\".format(accuracy_score(Y_shuffled.detach().numpy(), Y_preds.detach().numpy())))"
   ]
  },
  {
   "cell_type": "code",
   "execution_count": 146,
   "id": "00f01075",
   "metadata": {},
   "outputs": [],
   "source": [
    "def TrainModel(model, loss_fn, optimizer, train_loader, val_loader, epochs=10):\n",
    "    for i in range(1, epochs+1):\n",
    "        losses = []\n",
    "        for X, Y in tqdm(train_loader):\n",
    "            # X: Batch_size x (25*300)\n",
    "            # Y: Batch_size x 1\n",
    "            # Y_preds: Batch_size x num_class\n",
    "            Y_preds = model(X) \n",
    "\n",
    "            loss = loss_fn(Y_preds, Y)\n",
    "            losses.append(loss.item())\n",
    "\n",
    "            optimizer.zero_grad()\n",
    "            loss.backward()\n",
    "            optimizer.step()\n",
    "\n",
    "        if i%5==0:\n",
    "            print(\"Train Loss : {:.3f}\".format(torch.tensor(losses).mean()))\n",
    "            print(\"Train Acc  : {:.3f}\".format(accuracy_score(Y.numpy(), Y_preds.argmax(dim=-1).numpy())))\n",
    "            CalcValLossAndAccuracy(model, loss_fn, val_loader)"
   ]
  },
  {
   "cell_type": "code",
   "execution_count": 147,
   "id": "39a702be",
   "metadata": {},
   "outputs": [
    {
     "name": "stderr",
     "output_type": "stream",
     "text": [
      "100%|██████████| 112/112 [00:15<00:00,  7.23it/s]\n",
      "100%|██████████| 112/112 [00:15<00:00,  7.27it/s]\n",
      "100%|██████████| 112/112 [00:15<00:00,  7.22it/s]\n",
      "100%|██████████| 112/112 [00:15<00:00,  7.27it/s]\n",
      "100%|██████████| 112/112 [00:15<00:00,  7.26it/s]\n"
     ]
    },
    {
     "name": "stdout",
     "output_type": "stream",
     "text": [
      "Train Loss : 0.264\n",
      "Train Acc  : 0.929\n",
      "Valid Loss : 0.286\n",
      "Valid Acc  : 0.902\n"
     ]
    },
    {
     "name": "stderr",
     "output_type": "stream",
     "text": [
      "100%|██████████| 112/112 [00:15<00:00,  7.29it/s]\n",
      "100%|██████████| 112/112 [00:15<00:00,  7.28it/s]\n",
      "100%|██████████| 112/112 [00:15<00:00,  7.25it/s]\n",
      "100%|██████████| 112/112 [00:15<00:00,  7.11it/s]\n",
      "100%|██████████| 112/112 [00:15<00:00,  7.13it/s]\n"
     ]
    },
    {
     "name": "stdout",
     "output_type": "stream",
     "text": [
      "Train Loss : 0.226\n",
      "Train Acc  : 0.943\n",
      "Valid Loss : 0.259\n",
      "Valid Acc  : 0.908\n"
     ]
    },
    {
     "name": "stderr",
     "output_type": "stream",
     "text": [
      "100%|██████████| 112/112 [00:15<00:00,  7.11it/s]\n",
      "100%|██████████| 112/112 [00:15<00:00,  7.15it/s]\n",
      "100%|██████████| 112/112 [00:15<00:00,  7.18it/s]\n",
      "100%|██████████| 112/112 [00:15<00:00,  7.27it/s]\n",
      "100%|██████████| 112/112 [00:15<00:00,  7.24it/s]\n"
     ]
    },
    {
     "name": "stdout",
     "output_type": "stream",
     "text": [
      "Train Loss : 0.198\n",
      "Train Acc  : 0.955\n",
      "Valid Loss : 0.254\n",
      "Valid Acc  : 0.909\n"
     ]
    },
    {
     "name": "stderr",
     "output_type": "stream",
     "text": [
      "100%|██████████| 112/112 [00:15<00:00,  7.24it/s]\n",
      "100%|██████████| 112/112 [00:15<00:00,  7.23it/s]\n",
      "100%|██████████| 112/112 [00:15<00:00,  7.10it/s]\n",
      "100%|██████████| 112/112 [00:15<00:00,  7.23it/s]\n",
      "100%|██████████| 112/112 [00:15<00:00,  7.19it/s]\n"
     ]
    },
    {
     "name": "stdout",
     "output_type": "stream",
     "text": [
      "Train Loss : 0.176\n",
      "Train Acc  : 0.967\n",
      "Valid Loss : 0.257\n",
      "Valid Acc  : 0.912\n"
     ]
    },
    {
     "name": "stderr",
     "output_type": "stream",
     "text": [
      "100%|██████████| 112/112 [00:15<00:00,  7.23it/s]\n",
      "100%|██████████| 112/112 [00:15<00:00,  7.25it/s]\n",
      "100%|██████████| 112/112 [00:15<00:00,  7.20it/s]\n",
      "100%|██████████| 112/112 [00:15<00:00,  7.22it/s]\n",
      "100%|██████████| 112/112 [00:15<00:00,  7.26it/s]\n"
     ]
    },
    {
     "name": "stdout",
     "output_type": "stream",
     "text": [
      "Train Loss : 0.152\n",
      "Train Acc  : 0.979\n",
      "Valid Loss : 0.267\n",
      "Valid Acc  : 0.911\n"
     ]
    }
   ],
   "source": [
    "epochs = 25\n",
    "learning_rate = 1e-3\n",
    "\n",
    "loss_fn = nn.CrossEntropyLoss()\n",
    "embed_classifier = EmbeddingClassifier()\n",
    "optimizer = Adam(embed_classifier.parameters(), lr=learning_rate)\n",
    "\n",
    "TrainModel(embed_classifier, loss_fn, optimizer, train_loader, valid_loader, epochs)"
   ]
  },
  {
   "cell_type": "markdown",
   "id": "7a50f266",
   "metadata": {},
   "source": [
    "## Prediction"
   ]
  },
  {
   "cell_type": "code",
   "execution_count": 148,
   "id": "9f3b2754",
   "metadata": {},
   "outputs": [],
   "source": [
    "def MakePredictions(model, loader):\n",
    "    Y_shuffled, Y_preds = [], []\n",
    "    for X, Y in loader:\n",
    "        preds = model(X)\n",
    "        Y_preds.append(preds)\n",
    "        Y_shuffled.append(Y)\n",
    "    gc.collect()\n",
    "    Y_preds, Y_shuffled = torch.cat(Y_preds), torch.cat(Y_shuffled)\n",
    "\n",
    "    return Y_shuffled.detach().numpy(), F.softmax(Y_preds, dim=-1).argmax(dim=-1).detach().numpy()\n",
    "\n",
    "Y_actual, Y_preds = MakePredictions(embed_classifier, test_loader)"
   ]
  },
  {
   "cell_type": "code",
   "execution_count": 149,
   "id": "90a4150e",
   "metadata": {},
   "outputs": [
    {
     "name": "stdout",
     "output_type": "stream",
     "text": [
      "Test Accuracy : 0.9156578947368421\n",
      "\n",
      "Classification Report : \n",
      "              precision    recall  f1-score   support\n",
      "\n",
      "       World       0.93      0.92      0.92      1900\n",
      "      Sports       0.96      0.98      0.97      1900\n",
      "    Business       0.92      0.83      0.87      1900\n",
      "    Sci/Tech       0.86      0.93      0.90      1900\n",
      "\n",
      "    accuracy                           0.92      7600\n",
      "   macro avg       0.92      0.92      0.92      7600\n",
      "weighted avg       0.92      0.92      0.92      7600\n",
      "\n",
      "\n",
      "Confusion Matrix : \n",
      "[[1746   45   60   49]\n",
      " [  18 1861   13    8]\n",
      " [  82   13 1581  224]\n",
      " [  40   18   71 1771]]\n"
     ]
    }
   ],
   "source": [
    "print(\"Test Accuracy : {}\".format(accuracy_score(Y_actual, Y_preds)))\n",
    "print(\"\\nClassification Report : \")\n",
    "print(classification_report(Y_actual, Y_preds, target_names=target_classes))\n",
    "print(\"\\nConfusion Matrix : \")\n",
    "print(confusion_matrix(Y_actual, Y_preds))"
   ]
  },
  {
   "cell_type": "code",
   "execution_count": 150,
   "id": "2b447c09",
   "metadata": {},
   "outputs": [
    {
     "data": {
      "image/png": "[encoded data removed]",
      "text/plain": [
       "<Figure size 500x500 with 2 Axes>"
      ]
     },
     "metadata": {},
     "output_type": "display_data"
    }
   ],
   "source": [
    "skplt.metrics.plot_confusion_matrix([target_classes[i] for i in Y_actual], [target_classes[i] for i in Y_preds],\n",
    "                                    normalize=True,\n",
    "                                    title=\"Confusion Matrix\",\n",
    "                                    cmap=\"Purples\",\n",
    "                                    hide_zeros=True,\n",
    "                                    figsize=(5,5)\n",
    "                                    );\n",
    "plt.xticks(rotation=90);"
   ]
  }
 ],
 "metadata": {
  "kernelspec": {
   "display_name": "Python 3 (ipykernel)",
   "language": "python",
   "name": "python3"
  },
  "language_info": {
   "codemirror_mode": {
    "name": "ipython",
    "version": 3
   },
   "file_extension": ".py",
   "mimetype": "text/x-python",
   "name": "python",
   "nbconvert_exporter": "python",
   "pygments_lexer": "ipython3",
   "version": "3.9.7"
  }
 },
 "nbformat": 4,
 "nbformat_minor": 5
}
