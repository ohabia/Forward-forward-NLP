{
 "cells": [
  {
   "cell_type": "code",
   "execution_count": 1,
   "id": "080d50fc",
   "metadata": {},
   "outputs": [],
   "source": [
    "import argparse\n",
    "import logging\n",
    "import time\n",
    "\n",
    "import torch\n",
    "import torchtext\n",
    "from torch.utils.data import DataLoader\n",
    "from torch.utils.data.dataset import random_split\n",
    "from torchtext.data.functional import to_map_style_dataset\n",
    "from torchtext.data.utils import get_tokenizer\n",
    "from torchtext.datasets import DATASETS\n",
    "from torchtext.prototype.transforms import load_sp_model, PRETRAINED_SP_MODEL, SentencePieceTokenizer\n",
    "from torchtext.utils import download_from_url\n",
    "from torchtext.vocab import build_vocab_from_iterator\n",
    "import torch.nn as nn\n",
    "from torch.nn.utils.rnn import pad_sequence\n",
    "import torch.nn.functional as F\n",
    "from torchtext.vocab import GloVe, FastText\n",
    "from torch.optim import Adam\n",
    "from tqdm import tqdm\n",
    "from sklearn.metrics import accuracy_score\n",
    "import gc\n",
    "from sklearn.metrics import accuracy_score, classification_report, confusion_matrix\n",
    "from sklearn.metrics import confusion_matrix\n",
    "import scikitplot as skplt\n",
    "import matplotlib.pyplot as plt\n",
    "import numpy as np\n",
    "import random\n",
    "from sentence_transformers import SentenceTransformer"
   ]
  },
  {
   "cell_type": "code",
   "execution_count": 2,
   "id": "75d5624f",
   "metadata": {},
   "outputs": [],
   "source": [
    "# EXPERIMENT SETTING\n",
    "\n",
    "# embedding method\n",
    "EMBD = 'sbert' # choose from 'GloVe' or 'sbert'\n",
    "# number of classification class - according to different Data Set\n",
    "NUM_CLASS = 4\n",
    "# Corruption: if not then concatnate\n",
    "INSERT = False "
   ]
  },
  {
   "cell_type": "markdown",
   "id": "12d93d22",
   "metadata": {},
   "source": [
    "## About Data Set\n",
    "\n",
    "AG News (AG’s News Corpus) is a subdataset of AG's corpus of news articles constructed by assembling titles and description fields of articles from the 4 largest classes (“World”, “Sports”, “Business”, “Sci/Tech”) of AG’s Corpus."
   ]
  },
  {
   "cell_type": "markdown",
   "id": "1a61aede",
   "metadata": {},
   "source": [
    "## Tokenizer\n",
    "- Different models tolenize in different ways. \n",
    "    - Word2Vec / GloVe does words (WordLevel).\n",
    "    - BERT does WordPiece.\n",
    "    - The original transformer did BytePairEncoding.\n",
    "    - FastText uses n-grams.\n"
   ]
  },
  {
   "cell_type": "code",
   "execution_count": 3,
   "id": "93e3b7cb",
   "metadata": {},
   "outputs": [],
   "source": [
    "TOKENIZER = get_tokenizer(\"basic_english\")"
   ]
  },
  {
   "cell_type": "markdown",
   "id": "840252c4",
   "metadata": {},
   "source": [
    "## Embedding: GloVE/sbert"
   ]
  },
  {
   "cell_type": "code",
   "execution_count": 4,
   "id": "c4589bd6",
   "metadata": {},
   "outputs": [],
   "source": [
    "# GloVe\n",
    "GLOVE = GloVe(name='840B', dim=300)\n",
    "#([6, 300])\n",
    "GLOVE.get_vecs_by_tokens(TOKENIZER(\"Hello, How are you?\"), lower_case_backup=True) \n",
    "\n",
    "\n",
    "# FASTTEXT = FastText()\n",
    "\n",
    "# sbert\n",
    "model = SentenceTransformer('all-MiniLM-L6-v2')\n",
    "sentences = ['This framework generates embeddings for each input sentence',\n",
    "    'Sentences are passed as a list of string.',\n",
    "    'The quick brown fox jumps over the lazy dog.']\n",
    "embeddings = model.encode(sentences) #([3, 384])"
   ]
  },
  {
   "cell_type": "markdown",
   "id": "055e1af7",
   "metadata": {},
   "source": [
    "### Dataset & Preprocess(sbert)"
   ]
  },
  {
   "cell_type": "code",
   "execution_count": 5,
   "id": "78d76745",
   "metadata": {},
   "outputs": [],
   "source": [
    "target_classes = [\"World\", \"Sports\", \"Business\", \"Sci/Tech\"]\n",
    "\n",
    "train_dataset, test_dataset  = torchtext.datasets.AG_NEWS()\n",
    "\n",
    "train_dataset, test_dataset = to_map_style_dataset(train_dataset), to_map_style_dataset(test_dataset)\n",
    "\n",
    "model = SentenceTransformer('all-MiniLM-L6-v2')\n",
    "\n",
    "train_mapping = {}\n",
    "train_para = [_[1] for _ in train_dataset]\n",
    "train_embedd = torch.from_numpy(model.encode(train_para))\n",
    "\n",
    "train_mapping = dict(list(zip(train_para, train_embedd)))\n",
    "\n",
    "test_mapping = {}\n",
    "test_para = [_[1] for _ in test_dataset]\n",
    "test_embedd = torch.from_numpy(model.encode(test_para))\n",
    "\n",
    "test_mapping = dict(list(zip(test_para, test_embedd)))"
   ]
  },
  {
   "cell_type": "code",
   "execution_count": 7,
   "id": "a2a88057",
   "metadata": {},
   "outputs": [],
   "source": [
    "sbert_mapping = dict(train_mapping, **test_mapping)"
   ]
  },
  {
   "cell_type": "code",
   "execution_count": 8,
   "id": "5b371bf3",
   "metadata": {},
   "outputs": [
    {
     "data": {
      "text/plain": [
       "127600"
      ]
     },
     "execution_count": 8,
     "metadata": {},
     "output_type": "execute_result"
    }
   ],
   "source": [
    "len(sbert_mapping)"
   ]
  },
  {
   "cell_type": "markdown",
   "id": "3dde6b51",
   "metadata": {},
   "source": [
    "# Forward-Forward Algo"
   ]
  },
  {
   "cell_type": "markdown",
   "id": "92d6274d",
   "metadata": {},
   "source": [
    "## Dataset - get Positive Samples & Negative Samples"
   ]
  },
  {
   "cell_type": "code",
   "execution_count": 70,
   "id": "24a8dafc",
   "metadata": {},
   "outputs": [],
   "source": [
    "# define collate_fn with embedding method\n",
    "def vectorize_batch(batch, embed_method = 'GloVe'):\n",
    "    Y, X = list(zip(*batch))\n",
    "    \n",
    "    if embed_method == 'GloVe':\n",
    "      X = [TOKENIZER(x) for x in X]\n",
    "      X_tensor = torch.zeros(len(batch), 300)\n",
    "      for i, tokens in enumerate(X):\n",
    "          X_tensor[i] = GLOVE.get_vecs_by_tokens(tokens).mean(dim=0) ## Averaging Embedding accross all words of text document\n",
    "    \n",
    "    if embed_method == 'sbert': #slow\n",
    "      X_tensor = torch.cat([sbert_mapping[x].unsqueeze(0) for x in X], dim=0)\n",
    "\n",
    "    return X_tensor, torch.tensor(Y) - 1 "
   ]
  },
  {
   "cell_type": "code",
   "execution_count": 71,
   "id": "6d97038c",
   "metadata": {},
   "outputs": [],
   "source": [
    "target_classes = [\"World\", \"Sports\", \"Business\", \"Sci/Tech\"]\n",
    "\n",
    "train_dataset, test_dataset  = torchtext.datasets.AG_NEWS()\n",
    "train_dataset, test_dataset = to_map_style_dataset(train_dataset), to_map_style_dataset(test_dataset)\n",
    "\n",
    "num_train = round(0.95*len(train_dataset))\n",
    "split_train_, split_valid_ = random_split(train_dataset, [num_train, len(train_dataset) - num_train])\n",
    "\n",
    "# torch.Size([114000, embed]) torch.Size([114000])\n",
    "train_loader = DataLoader(split_train_, batch_size=len(split_train_), collate_fn= lambda x : vectorize_batch(x, embed_method=EMBD))\n",
    "\n",
    "# torch.Size([6000, embed]) torch.Size([6000])\n",
    "valid_loader = DataLoader(split_valid_, batch_size=len(split_valid_), collate_fn= lambda x : vectorize_batch(x, embed_method=EMBD))\n",
    "\n",
    "# torch.Size([7600, embed]) torch.Size([7600])\n",
    "test_loader = DataLoader(test_dataset, batch_size=len(test_dataset), collate_fn= lambda x : vectorize_batch(x, embed_method=EMBD))"
   ]
  },
  {
   "cell_type": "code",
   "execution_count": 72,
   "id": "fd465398",
   "metadata": {},
   "outputs": [
    {
     "data": {
      "text/plain": [
       "(torch.Size([114000, 384]), torch.Size([114000]))"
      ]
     },
     "execution_count": 72,
     "metadata": {},
     "output_type": "execute_result"
    }
   ],
   "source": [
    "x_train, y = next(iter(train_loader))\n",
    "x_train.shape, y.shape"
   ]
  },
  {
   "cell_type": "code",
   "execution_count": 73,
   "id": "57b6cb66",
   "metadata": {},
   "outputs": [
    {
     "data": {
      "text/plain": [
       "(tensor([[-0.0738, -0.0039, -0.0488,  ...,  0.0543, -0.0637,  0.0372],\n",
       "         [ 0.0397,  0.0829,  0.0245,  ..., -0.0810, -0.1030,  0.0403],\n",
       "         [-0.0524, -0.0891,  0.0136,  ..., -0.0383,  0.0840, -0.0377],\n",
       "         [ 0.0092, -0.0486,  0.0081,  ..., -0.0820,  0.0674, -0.0035],\n",
       "         [-0.0205,  0.0442, -0.1051,  ...,  0.0194,  0.0598, -0.0342]]),\n",
       " tensor([0, 1, 3, 1, 0]))"
      ]
     },
     "execution_count": 73,
     "metadata": {},
     "output_type": "execute_result"
    }
   ],
   "source": [
    "x_train[:5,:],y[:5]"
   ]
  },
  {
   "cell_type": "code",
   "execution_count": 74,
   "id": "71e215a6",
   "metadata": {},
   "outputs": [],
   "source": [
    "def create_pos_neg(x_train, insert = True):\n",
    "  \n",
    "  x_pos = x_train.clone().detach()\n",
    "  x_neg = x_train.clone().detach()\n",
    "\n",
    "  # if concatenate\n",
    "  if not insert:\n",
    "    x_pos = torch.cat((torch.zeros(x_pos.size(0), NUM_CLASS), x_pos), 1)\n",
    "    x_neg = torch.cat((torch.zeros(x_neg.size(0), NUM_CLASS), x_neg), 1)\n",
    "  # if insert\n",
    "  else:\n",
    "    x_pos[:,0:NUM_CLASS] = torch.zeros(x_pos.size(0), NUM_CLASS)\n",
    "    x_neg[:,0:NUM_CLASS] = torch.zeros(x_neg.size(0), NUM_CLASS)\n",
    "\n",
    "  y_ = torch.randint(0,NUM_CLASS,(x_neg.size(0),))\n",
    "\n",
    "  for i in range(x_neg.size(0)):\n",
    "    x_pos[i,y[i]] = 1\n",
    "    # x_neg[i,y_[i]] = 1\n",
    "    # # NOTE: y_[i] maybe the right label, which will certainly hurt experiment results!\n",
    "    if y_[i] != y[i]:\n",
    "      x_neg[i,y_[i]] = 1\n",
    "    else:\n",
    "      x_neg[i,(y[i]+1)%NUM_CLASS] = 1\n",
    "  \n",
    "  return x_pos, x_neg"
   ]
  },
  {
   "cell_type": "code",
   "execution_count": 75,
   "id": "8303cce2",
   "metadata": {},
   "outputs": [
    {
     "data": {
      "text/plain": [
       "388"
      ]
     },
     "execution_count": 75,
     "metadata": {},
     "output_type": "execute_result"
    }
   ],
   "source": [
    "x_pos, x_neg = create_pos_neg(x_train, insert=INSERT)\n",
    "embed_len = x_pos.shape[1]\n",
    "embed_len"
   ]
  },
  {
   "cell_type": "code",
   "execution_count": 76,
   "id": "5497b443",
   "metadata": {},
   "outputs": [
    {
     "name": "stdout",
     "output_type": "stream",
     "text": [
      "tensor([[ 1.0000,  0.0000,  0.0000,  ...,  0.0543, -0.0637,  0.0372],\n",
      "        [ 0.0000,  1.0000,  0.0000,  ..., -0.0810, -0.1030,  0.0403],\n",
      "        [ 0.0000,  0.0000,  0.0000,  ..., -0.0383,  0.0840, -0.0377],\n",
      "        [ 0.0000,  1.0000,  0.0000,  ..., -0.0820,  0.0674, -0.0035],\n",
      "        [ 1.0000,  0.0000,  0.0000,  ...,  0.0194,  0.0598, -0.0342]])\n",
      "tensor([[ 0.0000,  1.0000,  0.0000,  ...,  0.0543, -0.0637,  0.0372],\n",
      "        [ 1.0000,  0.0000,  0.0000,  ..., -0.0810, -0.1030,  0.0403],\n",
      "        [ 0.0000,  0.0000,  1.0000,  ..., -0.0383,  0.0840, -0.0377],\n",
      "        [ 0.0000,  0.0000,  1.0000,  ..., -0.0820,  0.0674, -0.0035],\n",
      "        [ 0.0000,  0.0000,  1.0000,  ...,  0.0194,  0.0598, -0.0342]])\n"
     ]
    }
   ],
   "source": [
    "print(x_pos[:5,:])\n",
    "print(x_neg[:5,:])"
   ]
  },
  {
   "cell_type": "markdown",
   "id": "22a4bb55",
   "metadata": {},
   "source": [
    "## Goodness Function"
   ]
  },
  {
   "cell_type": "code",
   "execution_count": 186,
   "id": "bc70d441",
   "metadata": {},
   "outputs": [],
   "source": [
    "def goodness_power(X, p):\n",
    "  return X.pow(p).mean(1)\n",
    "\n",
    "def goodness_abs(X):\n",
    "  return torch.abs(X).mean(1)"
   ]
  },
  {
   "cell_type": "code",
   "execution_count": 187,
   "id": "16797c8b",
   "metadata": {},
   "outputs": [],
   "source": [
    "def goodness(X):\n",
    "  return goodness_power(X,4.3)"
   ]
  },
  {
   "cell_type": "markdown",
   "id": "42b3dab4",
   "metadata": {},
   "source": [
    "## Model"
   ]
  },
  {
   "cell_type": "code",
   "execution_count": 188,
   "id": "9f0cc0c7",
   "metadata": {},
   "outputs": [],
   "source": [
    "layer_epoch = 1000\n",
    "layer_threshold = 5  #2.0\n",
    "\n",
    "class Layer(nn.Linear):\n",
    "    def __init__(self, in_features, out_features,\n",
    "                 bias=True, device=None, dtype=None):\n",
    "        super().__init__(in_features, out_features, bias, device, dtype)\n",
    "        self.relu = torch.nn.ReLU()\n",
    "        self.opt = Adam(self.parameters(), lr=0.03)\n",
    "        self.threshold = layer_threshold\n",
    "        self.num_epochs = layer_epoch\n",
    "        self.loss_list = []\n",
    "\n",
    "    def forward(self, x):\n",
    "        x_direction = x / (x.norm(p = 2, dim = 1, keepdim=True) + 1e-4)\n",
    "        return self.relu(\n",
    "            torch.mm(x_direction, self.weight.T) +\n",
    "            self.bias.unsqueeze(0))\n",
    "\n",
    "    def train(self, x_pos, x_neg):\n",
    "        for i in tqdm(range(self.num_epochs)):\n",
    "            # torch.Size([114000, embed]) --> torch.Size([114000])\n",
    "            g_pos = goodness(self.forward(x_pos))\n",
    "            g_neg = goodness(self.forward(x_neg))\n",
    "            # The following loss pushes pos (neg) samples to\n",
    "            # values larger (smaller) than the self.threshold.\n",
    "\n",
    "            # after exp()  torch.Size([228000])\n",
    "            # loss torch.size([1])\n",
    "            loss = torch.log(1 + torch.exp(torch.cat([\n",
    "                -g_pos + self.threshold,\n",
    "                g_neg - self.threshold]))).mean()\n",
    "\n",
    "            self.opt.zero_grad()\n",
    "            # this backward just compute the derivative and hence\n",
    "            # is not considered backpropagation.\n",
    "            loss.backward()\n",
    "            self.opt.step()\n",
    "            self.loss_list.append(loss.detach().item())\n",
    "\n",
    "            if i % 100 == 0 and i > 0:\n",
    "              print(\n",
    "                \"| epoch {:3d} | loss {:8.3f}\".format(i, loss)\n",
    "              )\n",
    "        return self.forward(x_pos).detach(), self.forward(x_neg).detach()"
   ]
  },
  {
   "cell_type": "code",
   "execution_count": 189,
   "id": "8fa5935d",
   "metadata": {},
   "outputs": [],
   "source": [
    "class Net(torch.nn.Module):\n",
    "\n",
    "    def __init__(self, dims):\n",
    "        super().__init__()\n",
    "        self.layers = []\n",
    "        for d in range(len(dims) - 1):\n",
    "            self.layers += [Layer(dims[d], dims[d + 1])]\n",
    "        # print(self.layers)\n",
    "\n",
    "    def predict(self, x):\n",
    "        goodness_per_label = []\n",
    "        for label in range(NUM_CLASS):\n",
    "            h = x.clone().detach()\n",
    "            if INSERT:\n",
    "              h[:, 0:NUM_CLASS] = torch.zeros(x.size(0), NUM_CLASS)\n",
    "            else:\n",
    "              h = torch.cat((torch.zeros(x.size(0), NUM_CLASS), h), dim = 1)\n",
    "            h[:, label] = 1      \n",
    "            # 4 , x.size(0)      \n",
    "            goodnesses = []\n",
    "            for layer in self.layers:\n",
    "                h = layer(h)\n",
    "                goodnesses += [goodness(h)]\n",
    "\n",
    "            goodness_per_label += [sum(goodnesses).unsqueeze(1)]\n",
    "        # [torch(x.size(0)),torch(x.size(0)),torch(x.size(0)),torch(x.size(0))]\n",
    "        goodness_per_label = torch.cat(goodness_per_label, 1)\n",
    "        # print(goodness_per_label.shape)\n",
    "        return goodness_per_label.argmax(1)\n",
    "\n",
    "    def train(self, x_pos, x_neg):\n",
    "        h_pos, h_neg = x_pos, x_neg\n",
    "        total_loss_list = []\n",
    "        for i, layer in enumerate(self.layers):\n",
    "            print(\"-\" * 59)\n",
    "            print('training layer', i, '...')\n",
    "            h_pos, h_neg = layer.train(h_pos, h_neg)\n",
    "            total_loss_list.append(layer.loss_list)\n",
    "            print(\"-\" * 59)\n",
    "        return(total_loss_list)"
   ]
  },
  {
   "cell_type": "markdown",
   "id": "0931b00a",
   "metadata": {},
   "source": [
    "## Train the model"
   ]
  },
  {
   "cell_type": "code",
   "execution_count": 190,
   "id": "446d2fa1",
   "metadata": {},
   "outputs": [
    {
     "name": "stdout",
     "output_type": "stream",
     "text": [
      "-----------------------------------------------------------\n",
      "training layer 0 ...\n"
     ]
    },
    {
     "name": "stderr",
     "output_type": "stream",
     "text": [
      " 10%|█         | 101/1000 [01:41<15:08,  1.01s/it]"
     ]
    },
    {
     "name": "stdout",
     "output_type": "stream",
     "text": [
      "| epoch 100 | loss    0.170\n"
     ]
    },
    {
     "name": "stderr",
     "output_type": "stream",
     "text": [
      " 20%|██        | 201/1000 [03:21<13:15,  1.00it/s]"
     ]
    },
    {
     "name": "stdout",
     "output_type": "stream",
     "text": [
      "| epoch 200 | loss    0.133\n"
     ]
    },
    {
     "name": "stderr",
     "output_type": "stream",
     "text": [
      " 30%|███       | 301/1000 [04:59<11:26,  1.02it/s]"
     ]
    },
    {
     "name": "stdout",
     "output_type": "stream",
     "text": [
      "| epoch 300 | loss    0.113\n"
     ]
    },
    {
     "name": "stderr",
     "output_type": "stream",
     "text": [
      " 40%|████      | 401/1000 [06:37<09:42,  1.03it/s]"
     ]
    },
    {
     "name": "stdout",
     "output_type": "stream",
     "text": [
      "| epoch 400 | loss    0.098\n"
     ]
    },
    {
     "name": "stderr",
     "output_type": "stream",
     "text": [
      " 50%|█████     | 501/1000 [08:14<08:05,  1.03it/s]"
     ]
    },
    {
     "name": "stdout",
     "output_type": "stream",
     "text": [
      "| epoch 500 | loss    0.087\n"
     ]
    },
    {
     "name": "stderr",
     "output_type": "stream",
     "text": [
      " 60%|██████    | 601/1000 [09:51<06:21,  1.04it/s]"
     ]
    },
    {
     "name": "stdout",
     "output_type": "stream",
     "text": [
      "| epoch 600 | loss    0.078\n"
     ]
    },
    {
     "name": "stderr",
     "output_type": "stream",
     "text": [
      " 70%|███████   | 701/1000 [11:27<04:48,  1.04it/s]"
     ]
    },
    {
     "name": "stdout",
     "output_type": "stream",
     "text": [
      "| epoch 700 | loss    0.070\n"
     ]
    },
    {
     "name": "stderr",
     "output_type": "stream",
     "text": [
      " 80%|████████  | 801/1000 [13:03<03:09,  1.05it/s]"
     ]
    },
    {
     "name": "stdout",
     "output_type": "stream",
     "text": [
      "| epoch 800 | loss    0.063\n"
     ]
    },
    {
     "name": "stderr",
     "output_type": "stream",
     "text": [
      " 90%|█████████ | 901/1000 [14:38<01:34,  1.05it/s]"
     ]
    },
    {
     "name": "stdout",
     "output_type": "stream",
     "text": [
      "| epoch 900 | loss    0.057\n"
     ]
    },
    {
     "name": "stderr",
     "output_type": "stream",
     "text": [
      "100%|██████████| 1000/1000 [16:12<00:00,  1.03it/s]\n"
     ]
    },
    {
     "name": "stdout",
     "output_type": "stream",
     "text": [
      "-----------------------------------------------------------\n",
      "-----------------------------------------------------------\n",
      "training layer 1 ...\n"
     ]
    },
    {
     "name": "stderr",
     "output_type": "stream",
     "text": [
      " 10%|█         | 101/1000 [00:40<05:47,  2.58it/s]"
     ]
    },
    {
     "name": "stdout",
     "output_type": "stream",
     "text": [
      "| epoch 100 | loss    0.192\n"
     ]
    },
    {
     "name": "stderr",
     "output_type": "stream",
     "text": [
      " 20%|██        | 201/1000 [01:19<05:09,  2.58it/s]"
     ]
    },
    {
     "name": "stdout",
     "output_type": "stream",
     "text": [
      "| epoch 200 | loss    0.144\n"
     ]
    },
    {
     "name": "stderr",
     "output_type": "stream",
     "text": [
      " 30%|███       | 301/1000 [01:57<04:28,  2.60it/s]"
     ]
    },
    {
     "name": "stdout",
     "output_type": "stream",
     "text": [
      "| epoch 300 | loss    0.134\n"
     ]
    },
    {
     "name": "stderr",
     "output_type": "stream",
     "text": [
      " 40%|████      | 401/1000 [02:35<03:51,  2.59it/s]"
     ]
    },
    {
     "name": "stdout",
     "output_type": "stream",
     "text": [
      "| epoch 400 | loss    0.130\n"
     ]
    },
    {
     "name": "stderr",
     "output_type": "stream",
     "text": [
      " 50%|█████     | 501/1000 [03:14<03:10,  2.61it/s]"
     ]
    },
    {
     "name": "stdout",
     "output_type": "stream",
     "text": [
      "| epoch 500 | loss    0.127\n"
     ]
    },
    {
     "name": "stderr",
     "output_type": "stream",
     "text": [
      " 60%|██████    | 601/1000 [03:51<02:34,  2.58it/s]"
     ]
    },
    {
     "name": "stdout",
     "output_type": "stream",
     "text": [
      "| epoch 600 | loss    0.125\n"
     ]
    },
    {
     "name": "stderr",
     "output_type": "stream",
     "text": [
      " 70%|███████   | 701/1000 [04:29<01:54,  2.62it/s]"
     ]
    },
    {
     "name": "stdout",
     "output_type": "stream",
     "text": [
      "| epoch 700 | loss    0.124\n"
     ]
    },
    {
     "name": "stderr",
     "output_type": "stream",
     "text": [
      " 80%|████████  | 801/1000 [05:07<01:15,  2.63it/s]"
     ]
    },
    {
     "name": "stdout",
     "output_type": "stream",
     "text": [
      "| epoch 800 | loss    0.122\n"
     ]
    },
    {
     "name": "stderr",
     "output_type": "stream",
     "text": [
      " 90%|█████████ | 901/1000 [05:45<00:36,  2.69it/s]"
     ]
    },
    {
     "name": "stdout",
     "output_type": "stream",
     "text": [
      "| epoch 900 | loss    0.121\n"
     ]
    },
    {
     "name": "stderr",
     "output_type": "stream",
     "text": [
      "100%|██████████| 1000/1000 [06:22<00:00,  2.61it/s]\n"
     ]
    },
    {
     "name": "stdout",
     "output_type": "stream",
     "text": [
      "-----------------------------------------------------------\n",
      "-----------------------------------------------------------\n",
      "training layer 2 ...\n"
     ]
    },
    {
     "name": "stderr",
     "output_type": "stream",
     "text": [
      " 10%|█         | 102/1000 [00:17<02:31,  5.93it/s]"
     ]
    },
    {
     "name": "stdout",
     "output_type": "stream",
     "text": [
      "| epoch 100 | loss    0.247\n"
     ]
    },
    {
     "name": "stderr",
     "output_type": "stream",
     "text": [
      " 20%|██        | 202/1000 [00:34<02:14,  5.91it/s]"
     ]
    },
    {
     "name": "stdout",
     "output_type": "stream",
     "text": [
      "| epoch 200 | loss    0.226\n"
     ]
    },
    {
     "name": "stderr",
     "output_type": "stream",
     "text": [
      " 30%|███       | 302/1000 [00:52<02:01,  5.73it/s]"
     ]
    },
    {
     "name": "stdout",
     "output_type": "stream",
     "text": [
      "| epoch 300 | loss    0.210\n"
     ]
    },
    {
     "name": "stderr",
     "output_type": "stream",
     "text": [
      " 40%|████      | 402/1000 [01:09<01:43,  5.79it/s]"
     ]
    },
    {
     "name": "stdout",
     "output_type": "stream",
     "text": [
      "| epoch 400 | loss    0.199\n"
     ]
    },
    {
     "name": "stderr",
     "output_type": "stream",
     "text": [
      " 50%|█████     | 502/1000 [01:26<01:27,  5.72it/s]"
     ]
    },
    {
     "name": "stdout",
     "output_type": "stream",
     "text": [
      "| epoch 500 | loss    0.193\n"
     ]
    },
    {
     "name": "stderr",
     "output_type": "stream",
     "text": [
      " 60%|██████    | 602/1000 [01:43<01:07,  5.92it/s]"
     ]
    },
    {
     "name": "stdout",
     "output_type": "stream",
     "text": [
      "| epoch 600 | loss    0.190\n"
     ]
    },
    {
     "name": "stderr",
     "output_type": "stream",
     "text": [
      " 70%|███████   | 702/1000 [02:01<00:51,  5.84it/s]"
     ]
    },
    {
     "name": "stdout",
     "output_type": "stream",
     "text": [
      "| epoch 700 | loss    0.188\n"
     ]
    },
    {
     "name": "stderr",
     "output_type": "stream",
     "text": [
      " 80%|████████  | 802/1000 [02:18<00:33,  5.90it/s]"
     ]
    },
    {
     "name": "stdout",
     "output_type": "stream",
     "text": [
      "| epoch 800 | loss    0.185\n"
     ]
    },
    {
     "name": "stderr",
     "output_type": "stream",
     "text": [
      " 90%|█████████ | 902/1000 [02:35<00:16,  5.93it/s]"
     ]
    },
    {
     "name": "stdout",
     "output_type": "stream",
     "text": [
      "| epoch 900 | loss    0.184\n"
     ]
    },
    {
     "name": "stderr",
     "output_type": "stream",
     "text": [
      "100%|██████████| 1000/1000 [02:52<00:00,  5.81it/s]\n"
     ]
    },
    {
     "name": "stdout",
     "output_type": "stream",
     "text": [
      "-----------------------------------------------------------\n",
      "-----------------------------------------------------------\n",
      "training layer 3 ...\n"
     ]
    },
    {
     "name": "stderr",
     "output_type": "stream",
     "text": [
      " 10%|█         | 104/1000 [00:03<00:29, 30.75it/s]"
     ]
    },
    {
     "name": "stdout",
     "output_type": "stream",
     "text": [
      "| epoch 100 | loss    0.396\n"
     ]
    },
    {
     "name": "stderr",
     "output_type": "stream",
     "text": [
      " 20%|██        | 204/1000 [00:06<00:26, 30.61it/s]"
     ]
    },
    {
     "name": "stdout",
     "output_type": "stream",
     "text": [
      "| epoch 200 | loss    0.319\n"
     ]
    },
    {
     "name": "stderr",
     "output_type": "stream",
     "text": [
      " 31%|███       | 307/1000 [00:10<00:22, 30.22it/s]"
     ]
    },
    {
     "name": "stdout",
     "output_type": "stream",
     "text": [
      "| epoch 300 | loss    0.290\n"
     ]
    },
    {
     "name": "stderr",
     "output_type": "stream",
     "text": [
      " 40%|████      | 403/1000 [00:13<00:19, 30.55it/s]"
     ]
    },
    {
     "name": "stdout",
     "output_type": "stream",
     "text": [
      "| epoch 400 | loss    0.276\n"
     ]
    },
    {
     "name": "stderr",
     "output_type": "stream",
     "text": [
      " 51%|█████     | 506/1000 [00:16<00:16, 30.02it/s]"
     ]
    },
    {
     "name": "stdout",
     "output_type": "stream",
     "text": [
      "| epoch 500 | loss    0.267\n"
     ]
    },
    {
     "name": "stderr",
     "output_type": "stream",
     "text": [
      " 61%|██████    | 606/1000 [00:19<00:11, 35.09it/s]"
     ]
    },
    {
     "name": "stdout",
     "output_type": "stream",
     "text": [
      "| epoch 600 | loss      nan\n"
     ]
    },
    {
     "name": "stderr",
     "output_type": "stream",
     "text": [
      " 71%|███████   | 706/1000 [00:22<00:08, 34.78it/s]"
     ]
    },
    {
     "name": "stdout",
     "output_type": "stream",
     "text": [
      "| epoch 700 | loss      nan\n"
     ]
    },
    {
     "name": "stderr",
     "output_type": "stream",
     "text": [
      " 81%|████████  | 806/1000 [00:25<00:05, 36.32it/s]"
     ]
    },
    {
     "name": "stdout",
     "output_type": "stream",
     "text": [
      "| epoch 800 | loss      nan\n"
     ]
    },
    {
     "name": "stderr",
     "output_type": "stream",
     "text": [
      " 91%|█████████ | 906/1000 [00:28<00:02, 35.90it/s]"
     ]
    },
    {
     "name": "stdout",
     "output_type": "stream",
     "text": [
      "| epoch 900 | loss      nan\n"
     ]
    },
    {
     "name": "stderr",
     "output_type": "stream",
     "text": [
      "100%|██████████| 1000/1000 [00:30<00:00, 32.41it/s]"
     ]
    },
    {
     "name": "stdout",
     "output_type": "stream",
     "text": [
      "-----------------------------------------------------------\n"
     ]
    },
    {
     "name": "stderr",
     "output_type": "stream",
     "text": [
      "\n"
     ]
    }
   ],
   "source": [
    "net = Net([embed_len, 256, 128, 64, len(target_classes)])\n",
    "ls = net.train(x_pos, x_neg)"
   ]
  },
  {
   "cell_type": "code",
   "execution_count": 191,
   "id": "d87286ff",
   "metadata": {},
   "outputs": [
    {
     "data": {
      "text/plain": [
       "<matplotlib.legend.Legend at 0x7fab700af160>"
      ]
     },
     "execution_count": 191,
     "metadata": {},
     "output_type": "execute_result"
    },
    {
     "data": {
      "image/png": "[encoded data removed]",
      "text/plain": [
       "<Figure size 640x480 with 1 Axes>"
      ]
     },
     "metadata": {},
     "output_type": "display_data"
    }
   ],
   "source": [
    "for i,ly in enumerate(ls):\n",
    "  plt.plot(ls[i], label = 'layer: ' + str(i))\n",
    "plt.legend(loc=\"upper right\")"
   ]
  },
  {
   "cell_type": "code",
   "execution_count": 192,
   "id": "8c9e10cb",
   "metadata": {},
   "outputs": [
    {
     "name": "stdout",
     "output_type": "stream",
     "text": [
      "train acc: 0.24990351498126984\n"
     ]
    }
   ],
   "source": [
    "print('train acc:', net.predict(x_train).eq(y).float().mean().item())"
   ]
  },
  {
   "cell_type": "markdown",
   "id": "dadfb303",
   "metadata": {},
   "source": []
  },
  {
   "cell_type": "code",
   "execution_count": null,
   "id": "d918fd0a",
   "metadata": {},
   "outputs": [],
   "source": []
  },
  {
   "cell_type": "code",
   "execution_count": null,
   "id": "1d8556b1",
   "metadata": {},
   "outputs": [],
   "source": []
  },
  {
   "cell_type": "code",
   "execution_count": null,
   "id": "3c188fd0",
   "metadata": {},
   "outputs": [],
   "source": []
  },
  {
   "cell_type": "code",
   "execution_count": null,
   "id": "e9748220",
   "metadata": {},
   "outputs": [],
   "source": []
  },
  {
   "cell_type": "markdown",
   "id": "6519154a",
   "metadata": {},
   "source": [
    "## Prediction"
   ]
  },
  {
   "cell_type": "code",
   "execution_count": 193,
   "id": "83a17787",
   "metadata": {},
   "outputs": [],
   "source": [
    "x_test, Y_actual = next(iter(train_loader))"
   ]
  },
  {
   "cell_type": "code",
   "execution_count": 194,
   "id": "167f0ea9",
   "metadata": {},
   "outputs": [],
   "source": [
    "Y_preds = net.predict(x_test)"
   ]
  },
  {
   "cell_type": "code",
   "execution_count": 195,
   "id": "a6569bb6",
   "metadata": {},
   "outputs": [
    {
     "name": "stdout",
     "output_type": "stream",
     "text": [
      "Test Accuracy : 0.24990350877192982\n",
      "\n",
      "Classification Report : \n",
      "              precision    recall  f1-score   support\n",
      "\n",
      "       World       0.25      1.00      0.40     28489\n",
      "      Sports       0.00      0.00      0.00     28536\n",
      "    Business       0.00      0.00      0.00     28496\n",
      "    Sci/Tech       0.00      0.00      0.00     28479\n",
      "\n",
      "    accuracy                           0.25    114000\n",
      "   macro avg       0.06      0.25      0.10    114000\n",
      "weighted avg       0.06      0.25      0.10    114000\n",
      "\n",
      "\n",
      "Confusion Matrix : \n",
      "[[28489     0     0     0]\n",
      " [28536     0     0     0]\n",
      " [28496     0     0     0]\n",
      " [28479     0     0     0]]\n"
     ]
    },
    {
     "name": "stderr",
     "output_type": "stream",
     "text": [
      "/Users/chenyihan/opt/anaconda3/lib/python3.9/site-packages/sklearn/metrics/_classification.py:1318: UndefinedMetricWarning: Precision and F-score are ill-defined and being set to 0.0 in labels with no predicted samples. Use `zero_division` parameter to control this behavior.\n",
      "  _warn_prf(average, modifier, msg_start, len(result))\n",
      "/Users/chenyihan/opt/anaconda3/lib/python3.9/site-packages/sklearn/metrics/_classification.py:1318: UndefinedMetricWarning: Precision and F-score are ill-defined and being set to 0.0 in labels with no predicted samples. Use `zero_division` parameter to control this behavior.\n",
      "  _warn_prf(average, modifier, msg_start, len(result))\n",
      "/Users/chenyihan/opt/anaconda3/lib/python3.9/site-packages/sklearn/metrics/_classification.py:1318: UndefinedMetricWarning: Precision and F-score are ill-defined and being set to 0.0 in labels with no predicted samples. Use `zero_division` parameter to control this behavior.\n",
      "  _warn_prf(average, modifier, msg_start, len(result))\n"
     ]
    }
   ],
   "source": [
    "print(\"Test Accuracy : {}\".format(accuracy_score(Y_actual, Y_preds)))\n",
    "print(\"\\nClassification Report : \")\n",
    "print(classification_report(Y_actual, Y_preds, target_names=target_classes))\n",
    "print(\"\\nConfusion Matrix : \")\n",
    "print(confusion_matrix(Y_actual, Y_preds))"
   ]
  },
  {
   "cell_type": "code",
   "execution_count": 63,
   "id": "fc7167e6",
   "metadata": {},
   "outputs": [
    {
     "data": {
      "image/png": "[encoded data removed]",
      "text/plain": [
       "<Figure size 500x500 with 2 Axes>"
      ]
     },
     "metadata": {},
     "output_type": "display_data"
    }
   ],
   "source": [
    "skplt.metrics.plot_confusion_matrix([target_classes[i] for i in Y_actual], [target_classes[i] for i in Y_preds],\n",
    "                                    normalize=True,\n",
    "                                    title=\"Confusion Matrix\",\n",
    "                                    cmap=\"Purples\",\n",
    "                                    hide_zeros=True,\n",
    "                                    figsize=(5,5)\n",
    "                                    );\n",
    "plt.xticks(rotation=90);"
   ]
  },
  {
   "cell_type": "code",
   "execution_count": null,
   "id": "c249bae0",
   "metadata": {},
   "outputs": [],
   "source": []
  },
  {
   "cell_type": "code",
   "execution_count": null,
   "id": "2a2ac77b",
   "metadata": {},
   "outputs": [],
   "source": []
  },
  {
   "cell_type": "code",
   "execution_count": null,
   "id": "397ce0e1",
   "metadata": {},
   "outputs": [],
   "source": []
  },
  {
   "cell_type": "markdown",
   "id": "81f91091",
   "metadata": {},
   "source": [
    "# Baseline - BP"
   ]
  },
  {
   "cell_type": "markdown",
   "id": "200b05fc",
   "metadata": {},
   "source": [
    "## Dataset"
   ]
  },
  {
   "cell_type": "code",
   "execution_count": 13,
   "id": "3d158b7f",
   "metadata": {},
   "outputs": [],
   "source": [
    "def vectorize_batch(batch, embed_method = 'GloVe'):\n",
    "    Y, X = list(zip(*batch))\n",
    "    \n",
    "    if embed_method == 'GloVe':\n",
    "      X = [TOKENIZER(x) for x in X]\n",
    "      X_tensor = torch.zeros(len(batch), 300)\n",
    "      for i, tokens in enumerate(X):\n",
    "          X_tensor[i] = GLOVE.get_vecs_by_tokens(tokens).mean(dim=0) ## Averaging Embedding accross all words of text document\n",
    "    \n",
    "    if embed_method == 'sbert': #slow\n",
    "      X_tensor = torch.cat([sbert_mapping[x].unsqueeze(0) for x in X], dim=0)\n",
    "\n",
    "    return X_tensor, torch.tensor(Y) - 1 "
   ]
  },
  {
   "cell_type": "code",
   "execution_count": 14,
   "id": "a1c5443f",
   "metadata": {},
   "outputs": [],
   "source": [
    "num_train = round(0.95*len(train_dataset))\n",
    "split_train_, split_valid_ = random_split(train_dataset, [num_train, len(train_dataset) - num_train])\n",
    "\n",
    "train_loader = DataLoader(split_train_, batch_size=1024, collate_fn= lambda x : vectorize_batch(x, embed_method=EMBD))\n",
    "valid_loader = DataLoader(split_valid_, batch_size=1024, collate_fn= lambda x : vectorize_batch(x, embed_method=EMBD))\n",
    "test_loader = DataLoader(test_dataset, batch_size=1024, collate_fn= lambda x : vectorize_batch(x, embed_method=EMBD))"
   ]
  },
  {
   "cell_type": "code",
   "execution_count": 15,
   "id": "2e1287d3",
   "metadata": {},
   "outputs": [
    {
     "name": "stdout",
     "output_type": "stream",
     "text": [
      "tensor([[ 0.0502, -0.1701,  0.0519,  ..., -0.0307, -0.0274,  0.0059],\n",
      "        [-0.0114,  0.0892, -0.0007,  ..., -0.1207, -0.0747,  0.0488],\n",
      "        [ 0.0054,  0.0554,  0.0180,  ..., -0.0214,  0.0086,  0.0301],\n",
      "        ...,\n",
      "        [ 0.0123,  0.1037,  0.0116,  ..., -0.0751, -0.0273,  0.0164],\n",
      "        [ 0.0184,  0.0347, -0.0088,  ...,  0.0337,  0.0019, -0.0339],\n",
      "        [ 0.0598,  0.0329,  0.0438,  ...,  0.0194,  0.0605,  0.0896]])\n",
      "torch.Size([1024, 384]) torch.Size([1024])\n"
     ]
    }
   ],
   "source": [
    "for X, Y in train_loader:\n",
    "    print(X)\n",
    "    print(X.shape, Y.shape)\n",
    "    break"
   ]
  },
  {
   "cell_type": "code",
   "execution_count": 16,
   "id": "b3eb4fb7",
   "metadata": {},
   "outputs": [
    {
     "data": {
      "text/plain": [
       "384"
      ]
     },
     "execution_count": 16,
     "metadata": {},
     "output_type": "execute_result"
    }
   ],
   "source": [
    "embed_len = X.shape[1]\n",
    "embed_len"
   ]
  },
  {
   "cell_type": "markdown",
   "id": "5aa8a40d",
   "metadata": {},
   "source": [
    "## Model"
   ]
  },
  {
   "cell_type": "code",
   "execution_count": 17,
   "id": "dc51c359",
   "metadata": {},
   "outputs": [],
   "source": [
    "class EmbeddingClassifier(nn.Module):\n",
    "    def __init__(self):\n",
    "        super(EmbeddingClassifier, self).__init__()\n",
    "        self.seq = nn.Sequential(\n",
    "            nn.Linear(embed_len, 256),\n",
    "            nn.ReLU(),\n",
    "\n",
    "            nn.Linear(256,128),\n",
    "            nn.ReLU(),\n",
    "\n",
    "            nn.Linear(128,64),\n",
    "            nn.ReLU(),\n",
    "\n",
    "            nn.Linear(64, len(target_classes)),\n",
    "        )\n",
    "\n",
    "    def forward(self, X_batch):\n",
    "        return self.seq(X_batch)"
   ]
  },
  {
   "cell_type": "code",
   "execution_count": null,
   "id": "25775647",
   "metadata": {},
   "outputs": [],
   "source": []
  },
  {
   "cell_type": "markdown",
   "id": "86476e2a",
   "metadata": {},
   "source": [
    "## Train the model"
   ]
  },
  {
   "cell_type": "code",
   "execution_count": 39,
   "id": "c187a40f",
   "metadata": {},
   "outputs": [],
   "source": [
    "def CalcValLossAndAccuracy(model, loss_fn, val_loader):\n",
    "    with torch.no_grad():\n",
    "        Y_shuffled, Y_preds, losses = [],[],[]\n",
    "        for X, Y in val_loader:\n",
    "            preds = model(X)\n",
    "            loss = loss_fn(preds, Y)\n",
    "            losses.append(loss.item())\n",
    "\n",
    "            Y_shuffled.append(Y)\n",
    "            Y_preds.append(preds.argmax(dim=-1))\n",
    "\n",
    "        Y_shuffled = torch.cat(Y_shuffled)\n",
    "        Y_preds = torch.cat(Y_preds)\n",
    "\n",
    "        # print(\"Valid Loss : {:.3f}\".format(torch.tensor(losses).mean()))\n",
    "        # print(\"Valid Acc  : {:.3f}\".format(accuracy_score(Y_shuffled.detach().numpy(), Y_preds.detach().numpy())))\n",
    "        return(torch.tensor(losses).mean(), accuracy_score(Y_shuffled.detach().numpy(), Y_preds.detach().numpy()))"
   ]
  },
  {
   "cell_type": "code",
   "execution_count": 64,
   "id": "00f01075",
   "metadata": {},
   "outputs": [],
   "source": [
    "def TrainModel(model, loss_fn, optimizer, train_loader, val_loader, epochs=10):\n",
    "    train_loss = []\n",
    "    train_acc = []\n",
    "    val_loss = []\n",
    "    val_acc = []\n",
    "    for i in range(1, epochs+1):\n",
    "        losses = []\n",
    "        for X, Y in tqdm(train_loader):\n",
    "            # X: Batch_size x (25*300)\n",
    "            # Y: Batch_size x 1\n",
    "            # Y_preds: Batch_size x num_class\n",
    "            Y_preds = model(X) \n",
    "\n",
    "            loss = loss_fn(Y_preds, Y)\n",
    "            losses.append(loss.item())\n",
    "\n",
    "            optimizer.zero_grad()\n",
    "            loss.backward()\n",
    "            optimizer.step()\n",
    "        train_loss.append(torch.tensor(losses).mean().item())\n",
    "        train_acc.append(accuracy_score(Y.numpy(), Y_preds.argmax(dim=-1).numpy()))\n",
    "        ls,ac = CalcValLossAndAccuracy(model, loss_fn, val_loader)\n",
    "        val_loss.append(ls)\n",
    "        val_acc.append(ac)\n",
    "\n",
    "        if i%5==0:\n",
    "            print(\"Train Loss : {:.4f}\".format(train_loss[-1]))\n",
    "            print(\"Train Acc  : {:.4f}\".format(train_acc[-1]))\n",
    "            print(\"Valid Loss : {:.4f}\".format(ls))\n",
    "            print(\"Valid Acc  : {:.4f}\".format(ac))\n",
    "            # CalcValLossAndAccuracy(model, loss_fn, val_loader)\n",
    "    return(train_loss,train_acc,val_loss,val_acc)"
   ]
  },
  {
   "cell_type": "code",
   "execution_count": 65,
   "id": "39a702be",
   "metadata": {},
   "outputs": [
    {
     "name": "stderr",
     "output_type": "stream",
     "text": [
      "100%|██████████| 112/112 [00:01<00:00, 58.58it/s]\n",
      "100%|██████████| 112/112 [00:01<00:00, 67.16it/s]\n",
      "100%|██████████| 112/112 [00:01<00:00, 67.95it/s]\n",
      "100%|██████████| 112/112 [00:01<00:00, 67.42it/s]\n",
      "100%|██████████| 112/112 [00:01<00:00, 66.34it/s]\n"
     ]
    },
    {
     "name": "stdout",
     "output_type": "stream",
     "text": [
      "Train Loss : 0.2820\n",
      "Train Acc  : 0.9226\n",
      "Valid Loss : 0.2781\n",
      "Valid Acc  : 0.9032\n"
     ]
    },
    {
     "name": "stderr",
     "output_type": "stream",
     "text": [
      "100%|██████████| 112/112 [00:01<00:00, 66.68it/s]\n",
      "100%|██████████| 112/112 [00:01<00:00, 68.02it/s]\n",
      "100%|██████████| 112/112 [00:01<00:00, 65.91it/s]\n",
      "100%|██████████| 112/112 [00:01<00:00, 67.78it/s]\n",
      "100%|██████████| 112/112 [00:01<00:00, 66.68it/s]\n"
     ]
    },
    {
     "name": "stdout",
     "output_type": "stream",
     "text": [
      "Train Loss : 0.2368\n",
      "Train Acc  : 0.9494\n",
      "Valid Loss : 0.2515\n",
      "Valid Acc  : 0.9138\n"
     ]
    },
    {
     "name": "stderr",
     "output_type": "stream",
     "text": [
      "100%|██████████| 112/112 [00:01<00:00, 67.62it/s]\n",
      "100%|██████████| 112/112 [00:01<00:00, 59.97it/s]\n",
      "100%|██████████| 112/112 [00:01<00:00, 64.05it/s]\n",
      "100%|██████████| 112/112 [00:01<00:00, 68.56it/s]\n",
      "100%|██████████| 112/112 [00:01<00:00, 68.44it/s]\n"
     ]
    },
    {
     "name": "stdout",
     "output_type": "stream",
     "text": [
      "Train Loss : 0.1920\n",
      "Train Acc  : 0.9643\n",
      "Valid Loss : 0.2435\n",
      "Valid Acc  : 0.9185\n"
     ]
    },
    {
     "name": "stderr",
     "output_type": "stream",
     "text": [
      "100%|██████████| 112/112 [00:01<00:00, 67.64it/s]\n",
      "100%|██████████| 112/112 [00:01<00:00, 56.83it/s]\n",
      "100%|██████████| 112/112 [00:01<00:00, 56.63it/s]\n",
      "100%|██████████| 112/112 [00:01<00:00, 67.07it/s]\n",
      "100%|██████████| 112/112 [00:01<00:00, 67.46it/s]\n"
     ]
    },
    {
     "name": "stdout",
     "output_type": "stream",
     "text": [
      "Train Loss : 0.1510\n",
      "Train Acc  : 0.9851\n",
      "Valid Loss : 0.2498\n",
      "Valid Acc  : 0.9192\n"
     ]
    }
   ],
   "source": [
    "epochs = 20\n",
    "learning_rate = 5*1e-4\n",
    "\n",
    "loss_fn = nn.CrossEntropyLoss()\n",
    "embed_classifier = EmbeddingClassifier()\n",
    "optimizer = Adam(embed_classifier.parameters(), lr=learning_rate)\n",
    "\n",
    "train_loss,train_acc,val_loss,val_acc = TrainModel(embed_classifier, loss_fn, optimizer, train_loader, valid_loader, epochs)"
   ]
  },
  {
   "cell_type": "code",
   "execution_count": 66,
   "id": "6a03cc4a",
   "metadata": {},
   "outputs": [
    {
     "data": {
      "text/plain": [
       "<matplotlib.legend.Legend at 0x7fab8410bd90>"
      ]
     },
     "execution_count": 66,
     "metadata": {},
     "output_type": "execute_result"
    },
    {
     "data": {
      "image/png": "[encoded data removed]",
      "text/plain": [
       "<Figure size 640x480 with 1 Axes>"
      ]
     },
     "metadata": {},
     "output_type": "display_data"
    }
   ],
   "source": [
    "plt.plot(train_loss,label = 'train_loss')\n",
    "plt.plot(val_loss,label = 'val_loss')\n",
    "plt.legend(loc=\"upper right\")"
   ]
  },
  {
   "cell_type": "code",
   "execution_count": 67,
   "id": "656f1bdd",
   "metadata": {},
   "outputs": [
    {
     "data": {
      "text/plain": [
       "<matplotlib.legend.Legend at 0x7fab313f4b50>"
      ]
     },
     "execution_count": 67,
     "metadata": {},
     "output_type": "execute_result"
    },
    {
     "data": {
      "image/png": "[encoded data removed]",
      "text/plain": [
       "<Figure size 640x480 with 1 Axes>"
      ]
     },
     "metadata": {},
     "output_type": "display_data"
    }
   ],
   "source": [
    "plt.plot(train_acc,label = 'train_acc')\n",
    "plt.plot(val_acc,label = 'val_acc')\n",
    "plt.legend(loc=\"upper left\")"
   ]
  },
  {
   "cell_type": "markdown",
   "id": "7a50f266",
   "metadata": {},
   "source": [
    "## Prediction"
   ]
  },
  {
   "cell_type": "code",
   "execution_count": 68,
   "id": "9f3b2754",
   "metadata": {},
   "outputs": [],
   "source": [
    "def MakePredictions(model, loader):\n",
    "    Y_shuffled, Y_preds = [], []\n",
    "    for X, Y in loader:\n",
    "        preds = model(X)\n",
    "        Y_preds.append(preds)\n",
    "        Y_shuffled.append(Y)\n",
    "    gc.collect()\n",
    "    Y_preds, Y_shuffled = torch.cat(Y_preds), torch.cat(Y_shuffled)\n",
    "\n",
    "    return Y_shuffled.detach().numpy(), F.softmax(Y_preds, dim=-1).argmax(dim=-1).detach().numpy()\n",
    "\n",
    "Y_actual, Y_preds = MakePredictions(embed_classifier, test_loader)"
   ]
  },
  {
   "cell_type": "code",
   "execution_count": 69,
   "id": "90a4150e",
   "metadata": {},
   "outputs": [
    {
     "name": "stdout",
     "output_type": "stream",
     "text": [
      "Test Accuracy : 0.9107894736842105\n",
      "\n",
      "Classification Report : \n",
      "              precision    recall  f1-score   support\n",
      "\n",
      "       World       0.92      0.90      0.91      1900\n",
      "      Sports       0.96      0.98      0.97      1900\n",
      "    Business       0.89      0.86      0.87      1900\n",
      "    Sci/Tech       0.87      0.90      0.89      1900\n",
      "\n",
      "    accuracy                           0.91      7600\n",
      "   macro avg       0.91      0.91      0.91      7600\n",
      "weighted avg       0.91      0.91      0.91      7600\n",
      "\n",
      "\n",
      "Confusion Matrix : \n",
      "[[1719   48   67   66]\n",
      " [  20 1862   13    5]\n",
      " [  73   13 1627  187]\n",
      " [  53   15  118 1714]]\n"
     ]
    }
   ],
   "source": [
    "print(\"Test Accuracy : {}\".format(accuracy_score(Y_actual, Y_preds)))\n",
    "print(\"\\nClassification Report : \")\n",
    "print(classification_report(Y_actual, Y_preds, target_names=target_classes))\n",
    "print(\"\\nConfusion Matrix : \")\n",
    "print(confusion_matrix(Y_actual, Y_preds))"
   ]
  },
  {
   "cell_type": "code",
   "execution_count": 63,
   "id": "2b447c09",
   "metadata": {},
   "outputs": [
    {
     "data": {
      "image/png": "[encoded data removed]",
      "text/plain": [
       "<Figure size 500x500 with 2 Axes>"
      ]
     },
     "metadata": {},
     "output_type": "display_data"
    }
   ],
   "source": [
    "skplt.metrics.plot_confusion_matrix([target_classes[i] for i in Y_actual], [target_classes[i] for i in Y_preds],\n",
    "                                    normalize=True,\n",
    "                                    title=\"Confusion Matrix\",\n",
    "                                    cmap=\"Purples\",\n",
    "                                    hide_zeros=True,\n",
    "                                    figsize=(5,5)\n",
    "                                    );\n",
    "plt.xticks(rotation=90);"
   ]
  }
 ],
 "metadata": {
  "kernelspec": {
   "display_name": "Python 3 (ipykernel)",
   "language": "python",
   "name": "python3"
  },
  "language_info": {
   "codemirror_mode": {
    "name": "ipython",
    "version": 3
   },
   "file_extension": ".py",
   "mimetype": "text/x-python",
   "name": "python",
   "nbconvert_exporter": "python",
   "pygments_lexer": "ipython3",
   "version": "3.9.7"
  }
 },
 "nbformat": 4,
 "nbformat_minor": 5
}
