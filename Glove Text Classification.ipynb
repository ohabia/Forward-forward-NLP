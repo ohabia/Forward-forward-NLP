{
 "cells": [
  {
   "cell_type": "code",
   "execution_count": 342,
   "id": "080d50fc",
   "metadata": {},
   "outputs": [],
   "source": [
    "import argparse\n",
    "import logging\n",
    "import time\n",
    "\n",
    "import torch\n",
    "import torchtext\n",
    "from torch.utils.data import DataLoader\n",
    "from torch.utils.data.dataset import random_split\n",
    "from torchtext.data.functional import to_map_style_dataset\n",
    "from torchtext.data.utils import get_tokenizer\n",
    "from torchtext.datasets import DATASETS\n",
    "from torchtext.prototype.transforms import load_sp_model, PRETRAINED_SP_MODEL, SentencePieceTokenizer\n",
    "from torchtext.utils import download_from_url\n",
    "from torchtext.vocab import build_vocab_from_iterator\n",
    "import torch.nn as nn\n",
    "from torch.nn.utils.rnn import pad_sequence\n",
    "import torch.nn.functional as F\n",
    "from torchtext.vocab import GloVe, FastText\n",
    "from torch.optim import Adam\n",
    "from tqdm import tqdm\n",
    "from sklearn.metrics import accuracy_score\n",
    "import gc\n",
    "from sklearn.metrics import accuracy_score, classification_report, confusion_matrix\n",
    "from sklearn.metrics import confusion_matrix\n",
    "import scikitplot as skplt\n",
    "import matplotlib.pyplot as plt\n",
    "import numpy as np\n",
    "import random\n"
   ]
  },
  {
   "cell_type": "markdown",
   "id": "12d93d22",
   "metadata": {},
   "source": [
    "## About Data Set\n",
    "\n",
    "AG News (AG’s News Corpus) is a subdataset of AG's corpus of news articles constructed by assembling titles and description fields of articles from the 4 largest classes (“World”, “Sports”, “Business”, “Sci/Tech”) of AG’s Corpus."
   ]
  },
  {
   "cell_type": "markdown",
   "id": "1a61aede",
   "metadata": {},
   "source": [
    "## Tokenizer\n",
    "- Different models tolenize in different ways. \n",
    "    - Word2Vec / GloVe does words (WordLevel).\n",
    "    - BERT does WordPiece.\n",
    "    - The original transformer did BytePairEncoding.\n",
    "    - FastText uses n-grams.\n"
   ]
  },
  {
   "cell_type": "code",
   "execution_count": 343,
   "id": "93e3b7cb",
   "metadata": {},
   "outputs": [],
   "source": [
    "TOKENIZER = get_tokenizer(\"basic_english\")"
   ]
  },
  {
   "cell_type": "markdown",
   "id": "840252c4",
   "metadata": {},
   "source": [
    "## GloVe vectors"
   ]
  },
  {
   "cell_type": "code",
   "execution_count": 22,
   "id": "c4589bd6",
   "metadata": {},
   "outputs": [
    {
     "name": "stderr",
     "output_type": "stream",
     "text": [
      ".vector_cache/glove.840B.300d.zip: 2.18GB [06:51, 5.30MB/s]                               \n",
      "100%|█████████▉| 2196016/2196017 [02:22<00:00, 15374.59it/s]\n",
      ".vector_cache/wiki.en.vec: 6.60GB [03:01, 36.3MB/s]                                \n",
      "  0%|          | 0/2519370 [00:00<?, ?it/s]Skipping token b'2519370' with 1-dimensional vector [b'300']; likely a header\n",
      "100%|██████████| 2519370/2519370 [02:47<00:00, 15069.93it/s]\n"
     ]
    }
   ],
   "source": [
    "GLOVE = GloVe(name='840B', dim=300)\n",
    "# FASTTEXT = FastText()"
   ]
  },
  {
   "cell_type": "code",
   "execution_count": 344,
   "id": "29ddde2a",
   "metadata": {},
   "outputs": [
    {
     "data": {
      "text/plain": [
       "torch.Size([6, 300])"
      ]
     },
     "execution_count": 344,
     "metadata": {},
     "output_type": "execute_result"
    }
   ],
   "source": [
    "GLOVE.get_vecs_by_tokens(TOKENIZER(\"Hello, How are you?\"), lower_case_backup=True).shape"
   ]
  },
  {
   "cell_type": "code",
   "execution_count": 345,
   "id": "df54d06b",
   "metadata": {},
   "outputs": [
    {
     "data": {
      "text/plain": [
       "tensor([[ 0.0000,  0.0000,  0.0000,  ...,  0.0000,  0.0000,  0.0000],\n",
       "        [ 0.0000,  0.0000,  0.0000,  ...,  0.0000,  0.0000,  0.0000],\n",
       "        [ 0.2720, -0.0620, -0.1884,  ...,  0.1302, -0.1832,  0.1323],\n",
       "        [-0.1731,  0.2066,  0.0165,  ...,  0.1666, -0.3834, -0.0738],\n",
       "        [-0.1731,  0.2066,  0.0165,  ...,  0.1666, -0.3834, -0.0738],\n",
       "        [ 0.0000,  0.0000,  0.0000,  ...,  0.0000,  0.0000,  0.0000]])"
      ]
     },
     "execution_count": 345,
     "metadata": {},
     "output_type": "execute_result"
    }
   ],
   "source": [
    "GLOVE.get_vecs_by_tokens(TOKENIZER(\"<pad> <unk> the man Man ahsdhashdahsdhash\"), lower_case_backup=True)"
   ]
  },
  {
   "cell_type": "markdown",
   "id": "56e5a8f0",
   "metadata": {},
   "source": [
    "# Forward-Forward Algo"
   ]
  },
  {
   "cell_type": "markdown",
   "id": "92d6274d",
   "metadata": {},
   "source": [
    "## Dataset - get Positive Samples & Negative Samples"
   ]
  },
  {
   "cell_type": "code",
   "execution_count": 346,
   "id": "90d5cc95",
   "metadata": {},
   "outputs": [],
   "source": [
    "max_words = 25\n",
    "embed_len = 300\n",
    "\n",
    "def vectorize_batch(batch):\n",
    "    Y, X = list(zip(*batch))\n",
    "    X = [TOKENIZER(x) for x in X]\n",
    "    \n",
    "    X_tensor = torch.zeros(len(batch), embed_len)\n",
    "    for i, tokens in enumerate(X):\n",
    "        X_tensor[i] = GLOVE.get_vecs_by_tokens(tokens).mean(dim=0) ## Averaging Embedding accross all words of text document\n",
    "    return X_tensor, torch.tensor(Y) - 1 \n",
    "\n",
    "# def neg_vectorize_batch(batch):\n",
    "#     Y, X = list(zip(*batch))\n",
    "#     X = [TOKENIZER(x) for x in X]\n",
    "#     Y = []\n",
    "    \n",
    "#     X_tensor = torch.zeros(len(batch), embed_len)\n",
    "#     for i, tokens in enumerate(X):\n",
    "#         #\n",
    "#         y = torch.randint(0,4,(1,))\n",
    "#         X_tensor[i] = GLOVE.get_vecs_by_tokens(tokens).mean(dim=0) ## Averaging Embedding accross all words of text document\n",
    "#         X_tensor[i, 0:4] = torch.zeros(4)\n",
    "#         X_tensor[i, y] = 1\n",
    "#         Y.append(y)\n",
    "#     return X_tensor, torch.tensor(Y)\n"
   ]
  },
  {
   "cell_type": "code",
   "execution_count": 347,
   "id": "6d97038c",
   "metadata": {},
   "outputs": [],
   "source": [
    "target_classes = [\"World\", \"Sports\", \"Business\", \"Sci/Tech\"]\n",
    "\n",
    "train_dataset, test_dataset  = torchtext.datasets.AG_NEWS()\n",
    "train_dataset, test_dataset = to_map_style_dataset(train_dataset), to_map_style_dataset(test_dataset)\n",
    "\n",
    "num_train = round(0.95*len(train_dataset))\n",
    "split_train_, split_valid_ = random_split(train_dataset, [num_train, len(train_dataset) - num_train])\n",
    "\n",
    "# torch.Size([114000, 300]) torch.Size([114000])\n",
    "train_loader = DataLoader(split_train_, batch_size=len(split_train_), collate_fn=vectorize_batch)\n",
    "\n",
    "# torch.Size([6000, 300]) torch.Size([6000])\n",
    "valid_loader = DataLoader(split_valid_, batch_size=len(split_valid_), collate_fn=vectorize_batch)\n",
    "\n",
    "# torch.Size([7600, 300]) torch.Size([7600])\n",
    "test_loader = DataLoader(test_dataset, batch_size=len(test_dataset), collate_fn=vectorize_batch)\n",
    "\n",
    "# neg_train_loader = DataLoader(split_train_, batch_size=len(split_train_), collate_fn=neg_vectorize_batch)\n",
    "# neg_valid_loader = DataLoader(split_valid_, batch_size=len(split_valid_), collate_fn=neg_vectorize_batch)\n",
    "# neg_test_loader = DataLoader(test_dataset, batch_size=len(test_dataset), collate_fn=neg_vectorize_batch)"
   ]
  },
  {
   "cell_type": "code",
   "execution_count": 348,
   "id": "fd465398",
   "metadata": {},
   "outputs": [
    {
     "data": {
      "text/plain": [
       "(torch.Size([114000, 300]), torch.Size([114000]))"
      ]
     },
     "execution_count": 348,
     "metadata": {},
     "output_type": "execute_result"
    }
   ],
   "source": [
    "x_train, y = next(iter(train_loader))\n",
    "x_train.shape, y.shape"
   ]
  },
  {
   "cell_type": "code",
   "execution_count": 349,
   "id": "57b6cb66",
   "metadata": {},
   "outputs": [
    {
     "data": {
      "text/plain": [
       "(tensor([[ 0.1085,  0.1997,  0.0299,  ..., -0.0442, -0.0258,  0.0018],\n",
       "         [-0.0968,  0.1764, -0.1473,  ..., -0.2033, -0.0692,  0.2106],\n",
       "         [-0.0426,  0.0511,  0.0220,  ..., -0.0069, -0.1978,  0.0078],\n",
       "         [-0.1948,  0.0857,  0.0264,  ...,  0.0109, -0.1130,  0.1257],\n",
       "         [ 0.0642,  0.1096,  0.1054,  ..., -0.0784, -0.0309,  0.0135]]),\n",
       " tensor([1, 3, 1, 3, 0]))"
      ]
     },
     "execution_count": 349,
     "metadata": {},
     "output_type": "execute_result"
    }
   ],
   "source": [
    "x_train[:5,:],y[:5]"
   ]
  },
  {
   "cell_type": "code",
   "execution_count": 350,
   "id": "c00b08b3",
   "metadata": {},
   "outputs": [],
   "source": [
    "x_pos = x_train.clone().detach()\n",
    "x_neg = x_train.clone().detach()\n",
    "\n",
    "x_pos[:,0:4] = torch.zeros(x_pos.size(0), 4)\n",
    "x_neg[:,0:4] = torch.zeros(x_neg.size(0), 4)\n",
    "\n",
    "y_ = torch.randint(0,4,(x_neg.size(0),))\n",
    "for i in range(x_neg.size(0)):\n",
    "  x_pos[i,y[i]] = 1\n",
    "  x_neg[i,y_[i]] = 1\n",
    "  # # NOTE: y_[i] maybe the right label, which will certainly hurt experiment results!\n",
    "  # if y_[i] != y[i]:\n",
    "  #   x_neg[i,y_[i]] = 1\n",
    "  # else:\n",
    "  #   x_neg[i,(y[i]+1)%4] = 1\n"
   ]
  },
  {
   "cell_type": "code",
   "execution_count": 351,
   "id": "5497b443",
   "metadata": {},
   "outputs": [
    {
     "name": "stdout",
     "output_type": "stream",
     "text": [
      "tensor([[ 0.0000,  1.0000,  0.0000,  ..., -0.0442, -0.0258,  0.0018],\n",
      "        [ 0.0000,  0.0000,  0.0000,  ..., -0.2033, -0.0692,  0.2106],\n",
      "        [ 0.0000,  1.0000,  0.0000,  ..., -0.0069, -0.1978,  0.0078],\n",
      "        [ 0.0000,  0.0000,  0.0000,  ...,  0.0109, -0.1130,  0.1257],\n",
      "        [ 1.0000,  0.0000,  0.0000,  ..., -0.0784, -0.0309,  0.0135]])\n",
      "tensor([[ 0.0000,  0.0000,  0.0000,  ..., -0.0442, -0.0258,  0.0018],\n",
      "        [ 0.0000,  0.0000,  0.0000,  ..., -0.2033, -0.0692,  0.2106],\n",
      "        [ 0.0000,  0.0000,  0.0000,  ..., -0.0069, -0.1978,  0.0078],\n",
      "        [ 0.0000,  0.0000,  1.0000,  ...,  0.0109, -0.1130,  0.1257],\n",
      "        [ 0.0000,  0.0000,  0.0000,  ..., -0.0784, -0.0309,  0.0135]])\n",
      "tensor([1, 3, 1, 3, 0])\n",
      "tensor([3, 3, 3, 2, 3])\n"
     ]
    }
   ],
   "source": [
    "print(x_pos[:5,:])\n",
    "print(x_neg[:5,:])\n",
    "print(y[:5])\n",
    "print(y_[:5])"
   ]
  },
  {
   "cell_type": "markdown",
   "id": "42b3dab4",
   "metadata": {},
   "source": [
    "## Model"
   ]
  },
  {
   "cell_type": "code",
   "execution_count": 399,
   "id": "9f0cc0c7",
   "metadata": {},
   "outputs": [],
   "source": [
    "class Layer(nn.Linear):\n",
    "    def __init__(self, in_features, out_features,\n",
    "                 bias=True, device=None, dtype=None):\n",
    "        super().__init__(in_features, out_features, bias, device, dtype)\n",
    "        self.relu = torch.nn.ReLU()\n",
    "        self.opt = Adam(self.parameters(), lr=0.03)\n",
    "        self.threshold = 5  #2.0\n",
    "        self.num_epochs = 500\n",
    "\n",
    "    def forward(self, x):\n",
    "        x_direction = x / (x.norm(2, 1, keepdim=True) + 1e-4)\n",
    "        return self.relu(\n",
    "            torch.mm(x_direction, self.weight.T) +\n",
    "            self.bias.unsqueeze(0))\n",
    "\n",
    "    def train(self, x_pos, x_neg):\n",
    "        for i in tqdm(range(self.num_epochs)):\n",
    "            # torch.Size([114000, 300]) --> torch.Size([114000])\n",
    "            g_pos = self.forward(x_pos).pow(2).mean(1)\n",
    "            g_neg = self.forward(x_neg).pow(2).mean(1)\n",
    "            # The following loss pushes pos (neg) samples to\n",
    "            # values larger (smaller) than the self.threshold.\n",
    "\n",
    "            # after exp()  torch.Size([228000])\n",
    "            # loss torch.size([1])\n",
    "            loss = torch.log(1 + torch.exp(torch.cat([\n",
    "                -g_pos + self.threshold,\n",
    "                g_neg - self.threshold]))).mean()\n",
    "\n",
    "            self.opt.zero_grad()\n",
    "            # this backward just compute the derivative and hence\n",
    "            # is not considered backpropagation.\n",
    "            loss.backward()\n",
    "            self.opt.step()\n",
    "\n",
    "            if i % 100 == 0 and i > 0:\n",
    "              print(\n",
    "                \"| epoch {:3d} | loss {:8.3f}\".format(i, loss)\n",
    "              )\n",
    "        return self.forward(x_pos).detach(), self.forward(x_neg).detach()"
   ]
  },
  {
   "cell_type": "code",
   "execution_count": 400,
   "id": "8fa5935d",
   "metadata": {},
   "outputs": [],
   "source": [
    "class Net(torch.nn.Module):\n",
    "\n",
    "    def __init__(self, dims):\n",
    "        super().__init__()\n",
    "        self.layers = []\n",
    "        for d in range(len(dims) - 1):\n",
    "            self.layers += [Layer(dims[d], dims[d + 1])]\n",
    "        print(self.layers)\n",
    "\n",
    "    def predict(self, x):\n",
    "        goodness_per_label = []\n",
    "        for label in range(4):\n",
    "            h = x.clone().detach()\n",
    "            h[:, 0:4] = torch.zeros(x.size(0), 4)\n",
    "            h[:, label] = 1      \n",
    "            # 4 , x.size(0)      \n",
    "            goodness = []\n",
    "            for layer in self.layers:\n",
    "                h = layer(h)\n",
    "                goodness += [h.pow(2).mean(1)]\n",
    "            goodness_per_label += [sum(goodness).unsqueeze(1)]\n",
    "        # print(len(goodness_per_label))\n",
    "        # print(goodness_per_label[0].shape)\n",
    "        goodness_per_label = torch.cat(goodness_per_label, 1)\n",
    "        # print(goodness_per_label.shape)\n",
    "        # print(goodness_per_label)\n",
    "        return goodness_per_label.argmax(1)\n",
    "\n",
    "    def train(self, x_pos, x_neg):\n",
    "        h_pos, h_neg = x_pos, x_neg\n",
    "        for i, layer in enumerate(self.layers):\n",
    "            print(\"-\" * 59)\n",
    "            print('training layer', i, '...')\n",
    "            h_pos, h_neg = layer.train(h_pos, h_neg)\n",
    "            print(\"-\" * 59)"
   ]
  },
  {
   "cell_type": "markdown",
   "id": "0931b00a",
   "metadata": {},
   "source": [
    "## Train the model"
   ]
  },
  {
   "cell_type": "code",
   "execution_count": 397,
   "id": "446d2fa1",
   "metadata": {},
   "outputs": [
    {
     "name": "stdout",
     "output_type": "stream",
     "text": [
      "[Layer(\n",
      "  in_features=300, out_features=256, bias=True\n",
      "  (relu): ReLU()\n",
      "), Layer(\n",
      "  in_features=256, out_features=128, bias=True\n",
      "  (relu): ReLU()\n",
      "), Layer(\n",
      "  in_features=128, out_features=64, bias=True\n",
      "  (relu): ReLU()\n",
      "), Layer(\n",
      "  in_features=64, out_features=4, bias=True\n",
      "  (relu): ReLU()\n",
      ")]\n",
      "-----------------------------------------------------------\n",
      "training layer 0 ...\n"
     ]
    },
    {
     "name": "stderr",
     "output_type": "stream",
     "text": [
      "100%|██████████| 100/100 [01:08<00:00,  1.47it/s]\n"
     ]
    },
    {
     "name": "stdout",
     "output_type": "stream",
     "text": [
      "-----------------------------------------------------------\n",
      "-----------------------------------------------------------\n",
      "training layer 1 ...\n"
     ]
    },
    {
     "name": "stderr",
     "output_type": "stream",
     "text": [
      "100%|██████████| 100/100 [00:30<00:00,  3.25it/s]\n"
     ]
    },
    {
     "name": "stdout",
     "output_type": "stream",
     "text": [
      "-----------------------------------------------------------\n",
      "-----------------------------------------------------------\n",
      "training layer 2 ...\n"
     ]
    },
    {
     "name": "stderr",
     "output_type": "stream",
     "text": [
      "100%|██████████| 100/100 [00:12<00:00,  7.70it/s]\n"
     ]
    },
    {
     "name": "stdout",
     "output_type": "stream",
     "text": [
      "-----------------------------------------------------------\n",
      "-----------------------------------------------------------\n",
      "training layer 3 ...\n"
     ]
    },
    {
     "name": "stderr",
     "output_type": "stream",
     "text": [
      "100%|██████████| 100/100 [00:02<00:00, 34.96it/s]"
     ]
    },
    {
     "name": "stdout",
     "output_type": "stream",
     "text": [
      "-----------------------------------------------------------\n"
     ]
    },
    {
     "name": "stderr",
     "output_type": "stream",
     "text": [
      "\n"
     ]
    }
   ],
   "source": [
    "net = Net([embed_len, 256, 128, 64, len(target_classes)])\n",
    "net.train(x_pos, x_neg)"
   ]
  },
  {
   "cell_type": "code",
   "execution_count": 398,
   "id": "8c9e10cb",
   "metadata": {},
   "outputs": [
    {
     "name": "stdout",
     "output_type": "stream",
     "text": [
      "train error: 0.5782894790172577\n"
     ]
    }
   ],
   "source": [
    "print('train error:', 1.0 - net.predict(x_train).eq(y).float().mean().item())"
   ]
  },
  {
   "cell_type": "code",
   "execution_count": null,
   "id": "1d8556b1",
   "metadata": {},
   "outputs": [],
   "source": []
  },
  {
   "cell_type": "code",
   "execution_count": null,
   "id": "e9748220",
   "metadata": {},
   "outputs": [],
   "source": []
  },
  {
   "cell_type": "markdown",
   "id": "6519154a",
   "metadata": {},
   "source": [
    "## Prediction"
   ]
  },
  {
   "cell_type": "code",
   "execution_count": 387,
   "id": "83a17787",
   "metadata": {},
   "outputs": [
    {
     "name": "stdout",
     "output_type": "stream",
     "text": [
      "4\n",
      "torch.Size([114000, 1])\n",
      "torch.Size([114000, 4])\n",
      "tensor([[4.3413, 5.9366, 3.7821, 3.3625],\n",
      "        [4.0909, 3.7388, 4.8834, 7.4260],\n",
      "        [3.2767, 3.9265, 3.1882, 3.4171],\n",
      "        ...,\n",
      "        [4.3168, 3.5389, 5.7068, 4.5428],\n",
      "        [3.1343, 2.8051, 5.6440, 6.4027],\n",
      "        [3.4259, 3.2042, 4.9710, 6.8298]], grad_fn=<CatBackward0>)\n"
     ]
    }
   ],
   "source": [
    "x_test, Y_actual = next(iter(train_loader))\n",
    "Y_preds = net.predict(x_test)"
   ]
  },
  {
   "cell_type": "code",
   "execution_count": 388,
   "id": "61138343",
   "metadata": {},
   "outputs": [
    {
     "data": {
      "text/plain": [
       "tensor([1, 3, 1,  ..., 2, 3, 3])"
      ]
     },
     "execution_count": 388,
     "metadata": {},
     "output_type": "execute_result"
    }
   ],
   "source": [
    "Y_actual"
   ]
  },
  {
   "cell_type": "code",
   "execution_count": 389,
   "id": "e7584a04",
   "metadata": {},
   "outputs": [
    {
     "data": {
      "text/plain": [
       "tensor([1, 3, 1,  ..., 2, 3, 3])"
      ]
     },
     "execution_count": 389,
     "metadata": {},
     "output_type": "execute_result"
    }
   ],
   "source": [
    "Y_preds"
   ]
  },
  {
   "cell_type": "code",
   "execution_count": 390,
   "id": "a6569bb6",
   "metadata": {},
   "outputs": [
    {
     "name": "stdout",
     "output_type": "stream",
     "text": [
      "Test Accuracy : 0.8784298245614035\n",
      "\n",
      "Classification Report : \n",
      "              precision    recall  f1-score   support\n",
      "\n",
      "       World       0.89      0.88      0.88     28543\n",
      "      Sports       0.94      0.97      0.95     28493\n",
      "    Business       0.84      0.83      0.83     28501\n",
      "    Sci/Tech       0.84      0.84      0.84     28463\n",
      "\n",
      "    accuracy                           0.88    114000\n",
      "   macro avg       0.88      0.88      0.88    114000\n",
      "weighted avg       0.88      0.88      0.88    114000\n",
      "\n",
      "\n",
      "Confusion Matrix : \n",
      "[[25131  1040  1472   900]\n",
      " [  518 27502   241   232]\n",
      " [ 1244   325 23670  3262]\n",
      " [ 1394   407  2824 23838]]\n"
     ]
    }
   ],
   "source": [
    "print(\"Test Accuracy : {}\".format(accuracy_score(Y_actual, Y_preds)))\n",
    "print(\"\\nClassification Report : \")\n",
    "print(classification_report(Y_actual, Y_preds, target_names=target_classes))\n",
    "print(\"\\nConfusion Matrix : \")\n",
    "print(confusion_matrix(Y_actual, Y_preds))"
   ]
  },
  {
   "cell_type": "code",
   "execution_count": 391,
   "id": "fc7167e6",
   "metadata": {},
   "outputs": [
    {
     "data": {
      "image/png": "[encoded data removed]",
      "text/plain": [
       "<Figure size 360x360 with 2 Axes>"
      ]
     },
     "metadata": {
      "needs_background": "light"
     },
     "output_type": "display_data"
    }
   ],
   "source": [
    "skplt.metrics.plot_confusion_matrix([target_classes[i] for i in Y_actual], [target_classes[i] for i in Y_preds],\n",
    "                                    normalize=True,\n",
    "                                    title=\"Confusion Matrix\",\n",
    "                                    cmap=\"Purples\",\n",
    "                                    hide_zeros=True,\n",
    "                                    figsize=(5,5)\n",
    "                                    );\n",
    "plt.xticks(rotation=90);"
   ]
  },
  {
   "cell_type": "code",
   "execution_count": null,
   "id": "c249bae0",
   "metadata": {},
   "outputs": [],
   "source": []
  },
  {
   "cell_type": "code",
   "execution_count": null,
   "id": "2a2ac77b",
   "metadata": {},
   "outputs": [],
   "source": []
  },
  {
   "cell_type": "code",
   "execution_count": null,
   "id": "397ce0e1",
   "metadata": {},
   "outputs": [],
   "source": []
  },
  {
   "cell_type": "markdown",
   "id": "81f91091",
   "metadata": {},
   "source": [
    "# Baseline"
   ]
  },
  {
   "cell_type": "markdown",
   "id": "200b05fc",
   "metadata": {},
   "source": [
    "## Dataset"
   ]
  },
  {
   "cell_type": "code",
   "execution_count": 90,
   "id": "ff479986",
   "metadata": {},
   "outputs": [],
   "source": [
    "max_words = 25\n",
    "embed_len = 300\n",
    "\n",
    "def vectorize_batch(batch):\n",
    "    Y, X = list(zip(*batch))\n",
    "    X = [TOKENIZER(x) for x in X]\n",
    "\n",
    "    # X = [tokens+[\"\"] * (max_words-len(tokens))  if len(tokens)<max_words else tokens[:max_words] for tokens in X]\n",
    "    # X_tensor = torch.zeros(len(batch), max_words, embed_len)\n",
    "    # for i, tokens in enumerate(X):\n",
    "        # X_tensor[i] = GLOVE.get_vecs_by_tokens(tokens)\n",
    "    # return X_tensor.reshape(len(batch), -1), torch.tensor(Y) - 1 ## Subtracted 1 from labels to bring in range [0,1,2,3] from [1,2,3,4]\n",
    "    \n",
    "    X_tensor = torch.zeros(len(batch), embed_len)\n",
    "    for i, tokens in enumerate(X):\n",
    "        X_tensor[i] = GLOVE.get_vecs_by_tokens(tokens).mean(dim=0) ## Averaging Embedding accross all words of text document\n",
    "        # X_tensor[i, 0:4] = torch.zeros(4)\n",
    "        # X_tensor[i, [Y[i]-1]] = 1\n",
    "    return X_tensor, torch.tensor(Y) - 1 \n",
    "\n",
    "\n",
    "target_classes = [\"World\", \"Sports\", \"Business\", \"Sci/Tech\"]\n",
    "\n",
    "train_dataset, test_dataset  = torchtext.datasets.AG_NEWS()\n",
    "train_dataset, test_dataset = to_map_style_dataset(train_dataset), to_map_style_dataset(test_dataset)\n",
    "\n",
    "num_train = round(0.95*len(train_dataset))\n",
    "split_train_, split_valid_ = random_split(train_dataset, [num_train, len(train_dataset) - num_train])\n",
    "\n",
    "train_loader = DataLoader(split_train_, batch_size=1024, collate_fn=vectorize_batch)\n",
    "valid_loader = DataLoader(split_valid_, batch_size=1024, collate_fn=vectorize_batch)\n",
    "test_loader = DataLoader(test_dataset, batch_size=1024, collate_fn=vectorize_batch)"
   ]
  },
  {
   "cell_type": "code",
   "execution_count": 91,
   "id": "2e1287d3",
   "metadata": {},
   "outputs": [
    {
     "name": "stdout",
     "output_type": "stream",
     "text": [
      "tensor([[-0.0289,  0.1634,  0.0320,  ..., -0.0973,  0.0065,  0.0266],\n",
      "        [ 0.0401,  0.1178,  0.0588,  ..., -0.0038, -0.0684,  0.0516],\n",
      "        [ 0.1497,  0.0450, -0.0933,  ..., -0.1014, -0.0440, -0.1521],\n",
      "        ...,\n",
      "        [-0.0941,  0.0740,  0.0408,  ...,  0.1033, -0.0083,  0.0343],\n",
      "        [-0.2283,  0.2360,  0.0633,  ..., -0.0673, -0.0554,  0.1201],\n",
      "        [-0.1545,  0.1495,  0.0220,  ..., -0.0702, -0.0423,  0.1718]])\n",
      "torch.Size([1024, 300]) torch.Size([1024])\n"
     ]
    }
   ],
   "source": [
    "for X, Y in train_loader:\n",
    "    print(X)\n",
    "    print(X.shape, Y.shape)\n",
    "    break"
   ]
  },
  {
   "cell_type": "markdown",
   "id": "5aa8a40d",
   "metadata": {},
   "source": [
    "## Model"
   ]
  },
  {
   "cell_type": "code",
   "execution_count": 92,
   "id": "dc51c359",
   "metadata": {},
   "outputs": [],
   "source": [
    "class EmbeddingClassifier(nn.Module):\n",
    "    def __init__(self):\n",
    "        super(EmbeddingClassifier, self).__init__()\n",
    "        self.seq = nn.Sequential(\n",
    "            nn.Linear(embed_len, 256),\n",
    "            nn.ReLU(),\n",
    "\n",
    "            nn.Linear(256,128),\n",
    "            nn.ReLU(),\n",
    "\n",
    "            nn.Linear(128,64),\n",
    "            nn.ReLU(),\n",
    "\n",
    "            nn.Linear(64, len(target_classes)),\n",
    "        )\n",
    "\n",
    "    def forward(self, X_batch):\n",
    "        return self.seq(X_batch)"
   ]
  },
  {
   "cell_type": "code",
   "execution_count": null,
   "id": "25775647",
   "metadata": {},
   "outputs": [],
   "source": []
  },
  {
   "cell_type": "markdown",
   "id": "86476e2a",
   "metadata": {},
   "source": [
    "## Train the model"
   ]
  },
  {
   "cell_type": "code",
   "execution_count": 93,
   "id": "c187a40f",
   "metadata": {},
   "outputs": [],
   "source": [
    "def CalcValLossAndAccuracy(model, loss_fn, val_loader):\n",
    "    with torch.no_grad():\n",
    "        Y_shuffled, Y_preds, losses = [],[],[]\n",
    "        for X, Y in val_loader:\n",
    "            preds = model(X)\n",
    "            loss = loss_fn(preds, Y)\n",
    "            losses.append(loss.item())\n",
    "\n",
    "            Y_shuffled.append(Y)\n",
    "            Y_preds.append(preds.argmax(dim=-1))\n",
    "\n",
    "        Y_shuffled = torch.cat(Y_shuffled)\n",
    "        Y_preds = torch.cat(Y_preds)\n",
    "\n",
    "        print(\"Valid Loss : {:.3f}\".format(torch.tensor(losses).mean()))\n",
    "        print(\"Valid Acc  : {:.3f}\".format(accuracy_score(Y_shuffled.detach().numpy(), Y_preds.detach().numpy())))"
   ]
  },
  {
   "cell_type": "code",
   "execution_count": 94,
   "id": "00f01075",
   "metadata": {},
   "outputs": [],
   "source": [
    "def TrainModel(model, loss_fn, optimizer, train_loader, val_loader, epochs=10):\n",
    "    for i in range(1, epochs+1):\n",
    "        losses = []\n",
    "        for X, Y in tqdm(train_loader):\n",
    "            # X: Batch_size x (25*300)\n",
    "            # Y: Batch_size x 1\n",
    "            # Y_preds: Batch_size x num_class\n",
    "            Y_preds = model(X) \n",
    "\n",
    "            loss = loss_fn(Y_preds, Y)\n",
    "            losses.append(loss.item())\n",
    "\n",
    "            optimizer.zero_grad()\n",
    "            loss.backward()\n",
    "            optimizer.step()\n",
    "\n",
    "        if i%5==0:\n",
    "            print(\"Train Loss : {:.3f}\".format(torch.tensor(losses).mean()))\n",
    "            CalcValLossAndAccuracy(model, loss_fn, val_loader)"
   ]
  },
  {
   "cell_type": "code",
   "execution_count": 95,
   "id": "39a702be",
   "metadata": {},
   "outputs": [
    {
     "name": "stderr",
     "output_type": "stream",
     "text": [
      "100%|██████████| 112/112 [00:15<00:00,  7.09it/s]\n",
      "100%|██████████| 112/112 [00:15<00:00,  7.37it/s]\n",
      "100%|██████████| 112/112 [00:16<00:00,  6.98it/s]\n",
      "100%|██████████| 112/112 [00:14<00:00,  7.49it/s]\n",
      "100%|██████████| 112/112 [00:14<00:00,  7.54it/s]\n"
     ]
    },
    {
     "name": "stdout",
     "output_type": "stream",
     "text": [
      "Train Loss : 0.261\n",
      "Valid Loss : 0.261\n",
      "Valid Acc  : 0.907\n"
     ]
    },
    {
     "name": "stderr",
     "output_type": "stream",
     "text": [
      "100%|██████████| 112/112 [00:15<00:00,  7.14it/s]\n",
      "100%|██████████| 112/112 [00:15<00:00,  7.36it/s]\n",
      "100%|██████████| 112/112 [00:15<00:00,  7.13it/s]\n",
      "100%|██████████| 112/112 [00:15<00:00,  7.40it/s]\n",
      "100%|██████████| 112/112 [00:15<00:00,  7.29it/s]\n"
     ]
    },
    {
     "name": "stdout",
     "output_type": "stream",
     "text": [
      "Train Loss : 0.224\n",
      "Valid Loss : 0.244\n",
      "Valid Acc  : 0.917\n"
     ]
    },
    {
     "name": "stderr",
     "output_type": "stream",
     "text": [
      "100%|██████████| 112/112 [00:14<00:00,  7.52it/s]\n",
      "100%|██████████| 112/112 [00:15<00:00,  7.44it/s]\n",
      "100%|██████████| 112/112 [00:15<00:00,  7.32it/s]\n",
      "100%|██████████| 112/112 [00:15<00:00,  7.23it/s]\n",
      "100%|██████████| 112/112 [00:15<00:00,  7.34it/s]\n"
     ]
    },
    {
     "name": "stdout",
     "output_type": "stream",
     "text": [
      "Train Loss : 0.197\n",
      "Valid Loss : 0.243\n",
      "Valid Acc  : 0.919\n"
     ]
    },
    {
     "name": "stderr",
     "output_type": "stream",
     "text": [
      "100%|██████████| 112/112 [00:15<00:00,  7.46it/s]\n",
      "100%|██████████| 112/112 [00:14<00:00,  7.50it/s]\n",
      "100%|██████████| 112/112 [00:15<00:00,  7.33it/s]\n",
      "100%|██████████| 112/112 [00:15<00:00,  7.45it/s]\n",
      "100%|██████████| 112/112 [00:15<00:00,  7.40it/s]\n"
     ]
    },
    {
     "name": "stdout",
     "output_type": "stream",
     "text": [
      "Train Loss : 0.172\n",
      "Valid Loss : 0.249\n",
      "Valid Acc  : 0.918\n"
     ]
    },
    {
     "name": "stderr",
     "output_type": "stream",
     "text": [
      "100%|██████████| 112/112 [00:15<00:00,  7.41it/s]\n",
      "100%|██████████| 112/112 [00:15<00:00,  7.31it/s]\n",
      "100%|██████████| 112/112 [00:15<00:00,  7.23it/s]\n",
      "100%|██████████| 112/112 [00:14<00:00,  7.53it/s]\n",
      "100%|██████████| 112/112 [00:15<00:00,  7.45it/s]\n"
     ]
    },
    {
     "name": "stdout",
     "output_type": "stream",
     "text": [
      "Train Loss : 0.146\n",
      "Valid Loss : 0.270\n",
      "Valid Acc  : 0.914\n"
     ]
    }
   ],
   "source": [
    "epochs = 25\n",
    "learning_rate = 1e-3\n",
    "\n",
    "loss_fn = nn.CrossEntropyLoss()\n",
    "embed_classifier = EmbeddingClassifier()\n",
    "optimizer = Adam(embed_classifier.parameters(), lr=learning_rate)\n",
    "\n",
    "TrainModel(embed_classifier, loss_fn, optimizer, train_loader, valid_loader, epochs)"
   ]
  },
  {
   "cell_type": "markdown",
   "id": "7a50f266",
   "metadata": {},
   "source": [
    "## Prediction"
   ]
  },
  {
   "cell_type": "code",
   "execution_count": 96,
   "id": "9f3b2754",
   "metadata": {},
   "outputs": [],
   "source": [
    "def MakePredictions(model, loader):\n",
    "    Y_shuffled, Y_preds = [], []\n",
    "    for X, Y in loader:\n",
    "        preds = model(X)\n",
    "        Y_preds.append(preds)\n",
    "        Y_shuffled.append(Y)\n",
    "    gc.collect()\n",
    "    Y_preds, Y_shuffled = torch.cat(Y_preds), torch.cat(Y_shuffled)\n",
    "\n",
    "    return Y_shuffled.detach().numpy(), F.softmax(Y_preds, dim=-1).argmax(dim=-1).detach().numpy()\n",
    "\n",
    "Y_actual, Y_preds = MakePredictions(embed_classifier, test_loader)"
   ]
  },
  {
   "cell_type": "code",
   "execution_count": 97,
   "id": "90a4150e",
   "metadata": {},
   "outputs": [
    {
     "name": "stdout",
     "output_type": "stream",
     "text": [
      "Test Accuracy : 0.9180263157894737\n",
      "\n",
      "Classification Report : \n",
      "              precision    recall  f1-score   support\n",
      "\n",
      "       World       0.93      0.91      0.92      1900\n",
      "      Sports       0.98      0.97      0.97      1900\n",
      "    Business       0.86      0.90      0.88      1900\n",
      "    Sci/Tech       0.91      0.89      0.90      1900\n",
      "\n",
      "    accuracy                           0.92      7600\n",
      "   macro avg       0.92      0.92      0.92      7600\n",
      "weighted avg       0.92      0.92      0.92      7600\n",
      "\n",
      "\n",
      "Confusion Matrix : \n",
      "[[1736   29   92   43]\n",
      " [  31 1837   24    8]\n",
      " [  54    8 1717  121]\n",
      " [  46   10  157 1687]]\n"
     ]
    }
   ],
   "source": [
    "print(\"Test Accuracy : {}\".format(accuracy_score(Y_actual, Y_preds)))\n",
    "print(\"\\nClassification Report : \")\n",
    "print(classification_report(Y_actual, Y_preds, target_names=target_classes))\n",
    "print(\"\\nConfusion Matrix : \")\n",
    "print(confusion_matrix(Y_actual, Y_preds))"
   ]
  },
  {
   "cell_type": "code",
   "execution_count": 98,
   "id": "2b447c09",
   "metadata": {},
   "outputs": [
    {
     "data": {
      "image/png": "[encoded data removed]",
      "text/plain": [
       "<Figure size 360x360 with 2 Axes>"
      ]
     },
     "metadata": {
      "needs_background": "light"
     },
     "output_type": "display_data"
    }
   ],
   "source": [
    "skplt.metrics.plot_confusion_matrix([target_classes[i] for i in Y_actual], [target_classes[i] for i in Y_preds],\n",
    "                                    normalize=True,\n",
    "                                    title=\"Confusion Matrix\",\n",
    "                                    cmap=\"Purples\",\n",
    "                                    hide_zeros=True,\n",
    "                                    figsize=(5,5)\n",
    "                                    );\n",
    "plt.xticks(rotation=90);"
   ]
  }
 ],
 "metadata": {
  "kernelspec": {
   "display_name": "Python 3 (ipykernel)",
   "language": "python",
   "name": "python3"
  },
  "language_info": {
   "codemirror_mode": {
    "name": "ipython",
    "version": 3
   },
   "file_extension": ".py",
   "mimetype": "text/x-python",
   "name": "python",
   "nbconvert_exporter": "python",
   "pygments_lexer": "ipython3",
   "version": "3.9.7"
  }
 },
 "nbformat": 4,
 "nbformat_minor": 5
}
